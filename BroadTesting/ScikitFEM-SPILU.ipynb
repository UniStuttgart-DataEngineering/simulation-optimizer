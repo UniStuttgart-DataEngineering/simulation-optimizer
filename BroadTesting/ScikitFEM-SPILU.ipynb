{
 "cells": [
  {
   "cell_type": "code",
   "execution_count": 1,
   "id": "5b0edefe",
   "metadata": {},
   "outputs": [],
   "source": [
    "import numpy as np\n",
    "from scipy.sparse import csr_matrix\n",
    "#import assembler\n",
    "from io import StringIO\n",
    "from scipy.io import mmread\n",
    "from scipy.sparse import csc_matrix\n",
    "from scipy.sparse.linalg import gmres\n",
    "from scipy.sparse.linalg import lgmres\n",
    "from scipy.sparse.linalg import cg\n",
    "from scipy.sparse.linalg import minres\n",
    "import scipy\n",
    "from numpy.linalg import solve\n",
    "from matplotlib import pyplot as plt\n",
    "from scipy.sparse.linalg import LinearOperator, spilu\n",
    "from scipy.sparse.linalg import inv\n",
    "from scipy.sparse.linalg import bicgstab\n",
    "import krypy\n",
    "import csv\n",
    "import time\n",
    "from skfem import *\n",
    "from skfem.models.poisson import unit_load"
   ]
  },
  {
   "cell_type": "code",
   "execution_count": null,
   "id": "0d4a57db",
   "metadata": {},
   "outputs": [],
   "source": []
  },
  {
   "cell_type": "code",
   "execution_count": 2,
   "id": "e0f1334d",
   "metadata": {},
   "outputs": [],
   "source": [
    "Problem='Ex02'\n",
    "#Kirchhoff plate bending problem\n",
    "r\"\"\"\n",
    "\n",
    "This example demonstrates the solution of a slightly more complicated problem\n",
    "with multiple boundary conditions and a fourth-order differential operator. We\n",
    "consider the `Kirchhoff plate bending problem\n",
    "<https://en.wikipedia.org/wiki/Kirchhoff%E2%80%93Love_plate_theory>`_ which\n",
    "finds its applications in solid mechanics. For a stationary plate of constant\n",
    "thickness :math:`d`, the governing equation reads: find the deflection :math:`u\n",
    ": \\Omega \\rightarrow \\mathbb{R}` that satisfies\n",
    "\n",
    ".. math::\n",
    "    \\frac{Ed^3}{12(1-\\nu^2)} \\Delta^2 u = f \\quad \\text{in $\\Omega$},\n",
    "where :math:`\\Omega = (0,1)^2`, :math:`f` is a perpendicular force,\n",
    ":math:`E` and :math:`\\nu` are material parameters.\n",
    "In this example, we analyse a :math:`1\\,\\text{m}^2` plate of steel with thickness :math:`d=0.1\\,\\text{m}`.\n",
    "The Young's modulus of steel is :math:`E = 200 \\cdot 10^9\\,\\text{Pa}` and Poisson\n",
    "ratio :math:`\\nu = 0.3`.\n",
    "\n",
    "In reality, the operator\n",
    "\n",
    ".. math::\n",
    "    \\frac{Ed^3}{12(1-\\nu^2)} \\Delta^2 \n",
    "is a combination of multiple first-order operators:\n",
    "\n",
    ".. math::\n",
    "    \\boldsymbol{K}(u) = - \\boldsymbol{\\varepsilon}(\\nabla u), \\quad \\boldsymbol{\\varepsilon}(\\boldsymbol{w}) = \\frac12(\\nabla \\boldsymbol{w} + \\nabla \\boldsymbol{w}^T),\n",
    ".. math::\n",
    "    \\boldsymbol{M}(u) = \\frac{d^3}{12} \\mathbb{C} \\boldsymbol{K}(u), \\quad \\mathbb{C} \\boldsymbol{T} = \\frac{E}{1+\\nu}\\left( \\boldsymbol{T} + \\frac{\\nu}{1-\\nu}(\\text{tr}\\,\\boldsymbol{T})\\boldsymbol{I}\\right),\n",
    "where :math:`\\boldsymbol{I}` is the identity matrix. In particular,\n",
    "\n",
    ".. math::\n",
    "    \\frac{Ed^3}{12(1-\\nu^2)} \\Delta^2 u = - \\text{div}\\,\\textbf{div}\\,\\boldsymbol{M}(u).\n",
    "There are several boundary conditions that the problem can take.\n",
    "The *fully clamped* boundary condition reads\n",
    "\n",
    ".. math::\n",
    "    u = \\frac{\\partial u}{\\partial \\boldsymbol{n}} = 0,\n",
    "where :math:`\\boldsymbol{n}` is the outward normal.\n",
    "Moreover, the *simply supported* boundary condition reads\n",
    "\n",
    ".. math::\n",
    "    u = 0, \\quad M_{nn}(u)=0,\n",
    "where :math:`M_{nn} = \\boldsymbol{n} \\cdot (\\boldsymbol{M} \\boldsymbol{n})`.\n",
    "Finally, the *free* boundary condition reads\n",
    "\n",
    ".. math::\n",
    "    M_{nn}(u)=0, \\quad V_{n}(u)=0,\n",
    "where :math:`V_n` is the `Kirchhoff shear force <https://arxiv.org/pdf/1707.08396.pdf>`_. The exact\n",
    "definition is not needed here as this boundary condition is a\n",
    "natural one.\n",
    "\n",
    "The correct weak formulation for the problem is: find :math:`u \\in V` such that\n",
    "\n",
    ".. math::\n",
    "    \\int_\\Omega \\boldsymbol{M}(u) : \\boldsymbol{K}(v) \\,\\mathrm{d}x = \\int_\\Omega fv \\,\\mathrm{d}x \\quad \\forall v \\in V,\n",
    "where :math:`V` is now a subspace of :math:`H^2` with the essential boundary\n",
    "conditions for :math:`u` and :math:`\\frac{\\partial u}{\\partial \\boldsymbol{n}}`.\n",
    "\n",
    "Instead of constructing a subspace for :math:`H^2`, we discretise the problem\n",
    "using the `non-conforming Morley finite element\n",
    "<https://users.aalto.fi/~jakke74/WebFiles/Slides-Niiranen-ADMOS-09.pdf>`_ which\n",
    "is a piecewise quadratic :math:`C^0`-continuous element for biharmonic problems.\n",
    "\n",
    "The full source code of the example reads as follows:\n",
    "\n",
    ".. literalinclude:: examples/ex02.py\n",
    "    :start-after: EOF\"\"\"\n",
    "from skfem import *\n",
    "from skfem.models.poisson import unit_load\n",
    "import numpy as np\n",
    "\n",
    "m = (\n",
    "    MeshTri.init_symmetric()\n",
    "    .refined(3)\n",
    "    .with_boundaries(\n",
    "        {\n",
    "            \"left\": lambda x: x[0] == 0,\n",
    "            \"right\": lambda x: x[0] == 1,\n",
    "            \"top\": lambda x: x[1] == 1,\n",
    "        }\n",
    "    )\n",
    ")\n",
    "\n",
    "e = ElementTriMorley()\n",
    "ib = Basis(m, e)\n",
    "\n",
    "\n",
    "@BilinearForm\n",
    "def bilinf(u, v, w):\n",
    "    from skfem.helpers import dd, ddot, trace, eye\n",
    "    d = 0.1\n",
    "    E = 200e9\n",
    "    nu = 0.3\n",
    "\n",
    "    def C(T):\n",
    "        return E / (1 + nu) * (T + nu / (1 - nu) * eye(trace(T), 2))\n",
    "\n",
    "    return d**3 / 12.0 * ddot(C(dd(u)), dd(v))\n",
    "\n",
    "\n",
    "K = asm(bilinf, ib)\n",
    "f = 1e6 * asm(unit_load, ib)\n",
    "\n",
    "D = np.hstack([ib.get_dofs(\"left\"), ib.get_dofs({\"right\", \"top\"}).all(\"u\")])\n",
    "\n",
    "\n",
    "A,b,temp1,temp2=condense(K, f, D=D)"
   ]
  },
  {
   "cell_type": "code",
   "execution_count": 3,
   "id": "b8012a29",
   "metadata": {},
   "outputs": [
    {
     "data": {
      "text/plain": [
       "<512x512 sparse matrix of type '<class 'numpy.float64'>'\n",
       "\twith 5454 stored elements in Compressed Sparse Row format>"
      ]
     },
     "execution_count": 3,
     "metadata": {},
     "output_type": "execute_result"
    }
   ],
   "source": [
    "A"
   ]
  },
  {
   "cell_type": "code",
   "execution_count": 4,
   "id": "9fb64e96",
   "metadata": {},
   "outputs": [],
   "source": [
    "Problem='Ex11'\n",
    "#Linear elasticity equation\n",
    "r\"\"\"Linear elasticity.\n",
    "\n",
    "This example solves the linear elasticity problem using trilinear elements.  The\n",
    "weak form of the linear elasticity problem is defined in\n",
    ":func:`skfem.models.elasticity.linear_elasticity`.\n",
    "\n",
    "\"\"\"\n",
    "\n",
    "import numpy as np\n",
    "from skfem import *\n",
    "from skfem.models.elasticity import linear_elasticity, lame_parameters\n",
    "\n",
    "m = MeshHex().refined(3)\n",
    "e1 = ElementHex1()\n",
    "e = ElementVector(e1)\n",
    "ib = Basis(m, e, MappingIsoparametric(m, e1), 3)\n",
    "\n",
    "K = asm(linear_elasticity(*lame_parameters(1e3, 0.3)), ib)\n",
    "\n",
    "dofs = {\n",
    "    'left' : ib.get_dofs(lambda x: x[0] == 0.0),\n",
    "    'right': ib.get_dofs(lambda x: x[0] == 1.0),\n",
    "}\n",
    "\n",
    "u = ib.zeros()\n",
    "u[dofs['right'].nodal['u^1']] = 0.3\n",
    "\n",
    "I = ib.complement_dofs(dofs)\n",
    "\n",
    "u = solve(*condense(K, x=u, I=I))\n",
    "\n",
    "A,b,temp1,temp2=condense(K, x=u, I=I)"
   ]
  },
  {
   "cell_type": "code",
   "execution_count": 5,
   "id": "854fb997",
   "metadata": {},
   "outputs": [
    {
     "data": {
      "text/plain": [
       "<1701x1701 sparse matrix of type '<class 'numpy.float64'>'\n",
       "\twith 106875 stored elements in Compressed Sparse Row format>"
      ]
     },
     "execution_count": 5,
     "metadata": {},
     "output_type": "execute_result"
    }
   ],
   "source": [
    "A"
   ]
  },
  {
   "cell_type": "code",
   "execution_count": 6,
   "id": "0c87cb77",
   "metadata": {},
   "outputs": [],
   "source": [
    "Problem='Ex20'\n",
    "#Creeping flow problem\n",
    "r\"\"\"Creeping flow.\n",
    "\n",
    "The stream-function :math:`\\psi` for two-dimensional creeping flow is\n",
    "governed by the biharmonic equation\n",
    "\n",
    ".. math::\n",
    "    \\nu \\Delta^2\\psi = \\mathrm{rot}\\,\\boldsymbol{f}\n",
    "where :math:`\\nu` is the kinematic viscosity (assumed constant),\n",
    ":math:`\\boldsymbol{f}` the volumetric body-force, and :math:`\\mathrm{rot}\\,\\boldsymbol{f} \\equiv\n",
    "\\partial f_y/\\partial x - \\partial f_x/\\partial y`.  The boundary\n",
    "conditions at a wall are that :math:`\\psi` is constant (the wall is\n",
    "impermeable) and that the normal component of its gradient vanishes (no\n",
    "slip).  Thus, the boundary value problem is analogous to that of\n",
    "bending a clamped plate, and may be treated with Morley elements as in\n",
    "the Kirchhoff plate tutorial.\n",
    "\n",
    "Here we consider a buoyancy force :math:`\\boldsymbol{f} = x\\hat{j}`,\n",
    "which arises in the Boussinesq approximation of natural convection\n",
    "with a horizontal temperature gradient (`Batchelor 1954\n",
    "<http://dx.doi.org/10.1090/qam/64563>`_).\n",
    "\n",
    "For a circular cavity of radius :math:`a`, the problem admits a\n",
    "polynomial solution with circular stream-lines:\n",
    "\n",
    ".. math::\n",
    "    \\psi = \\left(1 - (x^2+y^2)/a^2\\right)^2 / 64.\n",
    "\n",
    "\"\"\"\n",
    "\n",
    "from skfem import *\n",
    "from skfem.models.poisson import unit_load\n",
    "from skfem.models.general import curluv\n",
    "from skfem.helpers import ddot, dd\n",
    "\n",
    "import numpy as np\n",
    "\n",
    "\n",
    "mesh = MeshTri.init_circle(4)\n",
    "element = ElementTriMorley()\n",
    "mapping = MappingAffine(mesh)\n",
    "ib = Basis(mesh, element, mapping, 2)\n",
    "\n",
    "\n",
    "@BilinearForm\n",
    "def biharmonic(u, v, w):\n",
    "    return ddot(dd(u), dd(v))\n",
    "\n",
    "\n",
    "stokes = asm(biharmonic, ib)\n",
    "rotf = asm(unit_load, ib)\n",
    "\n",
    "A,b,temp1,temp2=condense(stokes, rotf, D=ib.get_dofs())"
   ]
  },
  {
   "cell_type": "code",
   "execution_count": 7,
   "id": "00a88b3d",
   "metadata": {},
   "outputs": [
    {
     "data": {
      "text/plain": [
       "<1985x1985 sparse matrix of type '<class 'numpy.float64'>'\n",
       "\twith 21997 stored elements in Compressed Sparse Row format>"
      ]
     },
     "execution_count": 7,
     "metadata": {},
     "output_type": "execute_result"
    }
   ],
   "source": [
    "A"
   ]
  },
  {
   "cell_type": "code",
   "execution_count": 8,
   "id": "5261aba5",
   "metadata": {},
   "outputs": [],
   "source": [
    "Problem='Ex38'\n",
    "#Greens function for a disk\n",
    "r\"\"\"Point source.\n",
    "\n",
    "Sources concentrated at points cannot be evaluated in the usual way, which\n",
    "involves discrete quadrature; instead, it requires direct use of the basis\n",
    "functions, as implemented in `CellBasis.point_source`.\n",
    "\n",
    "Here this is demonstrated for a disk with homogeneous Dirichlet conditions.\n",
    "The exact solution is the well-known Green's function (e.g. Sadybekov,\n",
    "Turmetov, & Torebek 2015).\n",
    "\n",
    "* Sadybekov, M. A., Turmetov, B. K. & Torebek, B. T. (2015). On an explicit\n",
    "  form of the Green function of the Robin problem for the Laplace operator\n",
    "  in a circle. *Advances in Pure and Applied Mathematics,* 6, 163-172.\n",
    "  [doi: 10.1515/apam-2015-0003](https://doi.org/10.1515%2fapam-2015-0003)\n",
    "\n",
    "\n",
    "\n",
    "\"\"\"\n",
    "from functools import partial\n",
    "from pathlib import Path\n",
    "\n",
    "from skfem import *\n",
    "from skfem.models.poisson import laplace, mass, unit_load\n",
    "from skfem.io.json import from_file\n",
    "\n",
    "import numpy as np\n",
    "\n",
    "\n",
    "def greens(a: float, s: np.ndarray, x: np.ndarray) -> np.ndarray:\n",
    "    \"\"\"Return the Green's function for a disk of radius `a`\n",
    "\n",
    "    with source at point `s`, evaluated at points `x`.\n",
    "    \"\"\"\n",
    "\n",
    "    snorm = np.linalg.norm(s)\n",
    "    sfull = s[:, None, None]\n",
    "    numerator = np.linalg.norm(snorm ** 2 * x - a ** 2 * sfull, axis=0)\n",
    "    denominator = a * snorm * np.linalg.norm(x - sfull, axis=0)\n",
    "    return np.log(numerator / denominator) / 2 / np.pi\n",
    "\n",
    "\n",
    "basis = Basis(MeshTri.init_circle(5), ElementTriP2())\n",
    "source = np.array([0.3, 0.2])\n",
    "\n",
    "A = asm(laplace, basis)\n",
    "b = basis.point_source(source)\n",
    "\n",
    "A,b,temp1,temp2=condense(A, b, D=basis.get_dofs())"
   ]
  },
  {
   "cell_type": "code",
   "execution_count": 9,
   "id": "659e4187",
   "metadata": {},
   "outputs": [
    {
     "data": {
      "text/plain": [
       "<8065x8065 sparse matrix of type '<class 'numpy.float64'>'\n",
       "\twith 90201 stored elements in Compressed Sparse Row format>"
      ]
     },
     "execution_count": 9,
     "metadata": {},
     "output_type": "execute_result"
    }
   ],
   "source": [
    "A"
   ]
  },
  {
   "cell_type": "code",
   "execution_count": null,
   "id": "c56dc890",
   "metadata": {},
   "outputs": [],
   "source": []
  },
  {
   "cell_type": "code",
   "execution_count": 85,
   "id": "31db1014",
   "metadata": {},
   "outputs": [],
   "source": [
    "def aktuell(x):\n",
    "    #print(x)\n",
    "    print(scipy.linalg.norm(x))\n",
    "    timestop=time.time()\n",
    "    #print(scipy.linalg.norm(bnonspd-Anonspd.dot(x)))\n",
    "    with open(f'{Problem}.csv', 'a') as file:\n",
    "        file.write(f\",{scipy.linalg.norm(x)},{timestop-timestart}\")"
   ]
  },
  {
   "cell_type": "code",
   "execution_count": 86,
   "id": "2885ed96",
   "metadata": {},
   "outputs": [],
   "source": [
    "N=A.shape[0]\n"
   ]
  },
  {
   "cell_type": "code",
   "execution_count": 3,
   "id": "ed2e8547",
   "metadata": {},
   "outputs": [
    {
     "name": "stdout",
     "output_type": "stream",
     "text": [
      "1 -12\n"
     ]
    },
    {
     "ename": "NameError",
     "evalue": "name 'Problem' is not defined",
     "output_type": "error",
     "traceback": [
      "\u001b[0;31m---------------------------------------------------------------------------\u001b[0m",
      "\u001b[0;31mNameError\u001b[0m                                 Traceback (most recent call last)",
      "\u001b[0;32m/tmp/ipykernel_7251/1490894127.py\u001b[0m in \u001b[0;36m<module>\u001b[0;34m\u001b[0m\n\u001b[1;32m      3\u001b[0m         \u001b[0mprint\u001b[0m\u001b[0;34m(\u001b[0m\u001b[0mfill_factor\u001b[0m\u001b[0;34m,\u001b[0m \u001b[0mdrop_tolerance\u001b[0m\u001b[0;34m)\u001b[0m\u001b[0;34m\u001b[0m\u001b[0;34m\u001b[0m\u001b[0m\n\u001b[1;32m      4\u001b[0m \u001b[0;34m\u001b[0m\u001b[0m\n\u001b[0;32m----> 5\u001b[0;31m         \u001b[0;32mwith\u001b[0m \u001b[0mopen\u001b[0m\u001b[0;34m(\u001b[0m\u001b[0;34mf'{Problem}.csv'\u001b[0m\u001b[0;34m,\u001b[0m \u001b[0;34m'a'\u001b[0m\u001b[0;34m)\u001b[0m \u001b[0;32mas\u001b[0m \u001b[0mfile\u001b[0m\u001b[0;34m:\u001b[0m\u001b[0;34m\u001b[0m\u001b[0;34m\u001b[0m\u001b[0m\n\u001b[0m\u001b[1;32m      6\u001b[0m             \u001b[0mfile\u001b[0m\u001b[0;34m.\u001b[0m\u001b[0mwrite\u001b[0m\u001b[0;34m(\u001b[0m\u001b[0;34mf\"{fill_factor},{drop_tolerance}\"\u001b[0m\u001b[0;34m)\u001b[0m\u001b[0;34m\u001b[0m\u001b[0;34m\u001b[0m\u001b[0m\n\u001b[1;32m      7\u001b[0m         \u001b[0mtimestart\u001b[0m \u001b[0;34m=\u001b[0m \u001b[0mtime\u001b[0m\u001b[0;34m.\u001b[0m\u001b[0mtime\u001b[0m\u001b[0;34m(\u001b[0m\u001b[0;34m)\u001b[0m\u001b[0;34m\u001b[0m\u001b[0;34m\u001b[0m\u001b[0m\n",
      "\u001b[0;31mNameError\u001b[0m: name 'Problem' is not defined"
     ]
    }
   ],
   "source": [
    "for fill_factor in range(1,10):\n",
    "    for drop_tolerance in range(-12,5,2):\n",
    "        print(fill_factor, drop_tolerance)\n",
    "            \n",
    "        with open(f'{Problem}.csv', 'a') as file:\n",
    "            file.write(f\"{fill_factor},{drop_tolerance}\")\n",
    "        timestart = time.time()\n",
    "        \n",
    "        # ILUT Variante aus scipy\n",
    "        ilu = spilu(A, fill_factor=fill_factor, drop_tol=pow(10,drop_tolerance))\n",
    "        Mx = lambda x: ilu.solve(x)\n",
    "        M = LinearOperator((N, N), Mx)\n",
    "        with open(f'{Problem}.csv', 'a') as file:\n",
    "            file.write(f\",{ilu.nnz}\")\n",
    "        \n",
    "        #in the experiments we use an absolute stopping criterion,\n",
    "        #which means setting the relative tolerance tol too big for it to effect termination\n",
    "        #the absolute stopping criterion depends heavily on the linear system\n",
    "        x, exit_code = cg(A, b,callback=aktuell, M=M, callback_type='r',tol=1e-10, atol=1e-16, maxiter=500)\n",
    "        # if nonspd:\n",
    "        #x, exit_code = gmres(A, b,callback=aktuell, M=M, callback_type='pr_norm',tol=1e-100, atol=1e-11, maxiter=500)\n",
    "        print(exit_code)    # 0 indicates successful convergence\n",
    "        print('scipy.linalg.norm(b-A.dot(x)): ',scipy.linalg.norm(b-A.dot(x)))\n",
    "        with open(f'{Problem}.csv', 'a') as file:\n",
    "            file.write(\"\\n\")\n",
    "            "
   ]
  },
  {
   "cell_type": "code",
   "execution_count": null,
   "id": "44314707",
   "metadata": {},
   "outputs": [],
   "source": [
    "scipy.linalg.norm(b-A.dot(x))"
   ]
  },
  {
   "cell_type": "code",
   "execution_count": null,
   "id": "76608168",
   "metadata": {},
   "outputs": [],
   "source": [
    "np.power(2,4)"
   ]
  },
  {
   "cell_type": "code",
   "execution_count": 14,
   "id": "c809c2af",
   "metadata": {},
   "outputs": [
    {
     "data": {
      "text/plain": [
       "64"
      ]
     },
     "execution_count": 14,
     "metadata": {},
     "output_type": "execute_result"
    }
   ],
   "source": [
    "pow(4, 3)"
   ]
  },
  {
   "cell_type": "code",
   "execution_count": 15,
   "id": "7f55e0b8",
   "metadata": {},
   "outputs": [
    {
     "data": {
      "text/plain": [
       "0.5"
      ]
     },
     "execution_count": 15,
     "metadata": {},
     "output_type": "execute_result"
    }
   ],
   "source": [
    "pow(2,-1)"
   ]
  },
  {
   "cell_type": "code",
   "execution_count": null,
   "id": "551b5983",
   "metadata": {},
   "outputs": [],
   "source": []
  }
 ],
 "metadata": {
  "kernelspec": {
   "display_name": "Python 3 (ipykernel)",
   "language": "python",
   "name": "python3"
  },
  "language_info": {
   "codemirror_mode": {
    "name": "ipython",
    "version": 3
   },
   "file_extension": ".py",
   "mimetype": "text/x-python",
   "name": "python",
   "nbconvert_exporter": "python",
   "pygments_lexer": "ipython3",
   "version": "3.7.3"
  }
 },
 "nbformat": 4,
 "nbformat_minor": 5
}
