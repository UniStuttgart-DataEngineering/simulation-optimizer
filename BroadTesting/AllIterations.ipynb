{
 "cells": [
  {
   "cell_type": "code",
   "execution_count": 1,
   "id": "c9b80248",
   "metadata": {},
   "outputs": [],
   "source": [
    "import pandas as pd\n",
    "import numpy as np\n",
    "import matplotlib.pyplot as plt\n",
    "from matplotlib import cm\n",
    "from sklearn.cluster import KMeans\n",
    "from sklearn import preprocessing\n",
    "from sklearn.preprocessing import MinMaxScaler\n",
    "from s_dbw import S_Dbw\n",
    "import math\n",
    "import matplotlib.patches as mpatches\n"
   ]
  },
  {
   "cell_type": "code",
   "execution_count": 2,
   "id": "d1ccc6cf",
   "metadata": {},
   "outputs": [],
   "source": [
    "# resets index after selections have been made\n",
    "def resetindex(data):\n",
    "    data=data.reset_index()\n",
    "    data=data.drop('index', axis=1)\n",
    "    return data"
   ]
  },
  {
   "cell_type": "code",
   "execution_count": 3,
   "id": "672df194",
   "metadata": {},
   "outputs": [],
   "source": [
    "#reduces the data set to the first m iterations\n",
    "def firstiterations(m,data):\n",
    "    i=0\n",
    "    j=0\n",
    "    n=len(data.index)    \n",
    "    while i<n:\n",
    "        if  (data.iat[j,10]>m):\n",
    "            data=data.drop(i, axis=0)\n",
    "            i=i+1\n",
    "        else:\n",
    "            i=i+1\n",
    "            j=j+1\n",
    "    data=resetindex(data)\n",
    "    return data"
   ]
  },
  {
   "cell_type": "code",
   "execution_count": 4,
   "id": "e1883788",
   "metadata": {},
   "outputs": [],
   "source": [
    "# Generate a Series with a specific length, so that all residuals of one parameter combination are in one line\n",
    "def GenerateSeries(source, Length):\n",
    "    output=source.iloc[:,[4,5]]\n",
    "    output=output.drop_duplicates()\n",
    "    output=resetindex(output)\n",
    "    for j in range(1, Length+1):\n",
    "        output[f'ResidualNorm{j}']=0.0\n",
    "        for i in range(len(output.index)):\n",
    "            Abfrage=source.query( f\"`Droptol`=={output.iat[i,0]} and `Fillfactor`=={output.iat[i,1]} and Iterations=={j}\")\n",
    "            if len(Abfrage.index)==1:\n",
    "                output.iat[i,j+1]=Abfrage.iat[0,8]\n",
    "            elif len(Abfrage.index)>1:\n",
    "                raise Exception(\"Multiple instances with same Droptol, Fillfactor and Iteration within one Beta\")\n",
    "    return output"
   ]
  },
  {
   "cell_type": "code",
   "execution_count": 5,
   "id": "77e7f53d",
   "metadata": {},
   "outputs": [
    {
     "name": "stderr",
     "output_type": "stream",
     "text": [
      "b'Skipping line 7: expected 273 fields, saw 505\\nSkipping line 8: expected 273 fields, saw 549\\nSkipping line 9: expected 273 fields, saw 549\\nSkipping line 16: expected 273 fields, saw 483\\nSkipping line 17: expected 273 fields, saw 549\\nSkipping line 18: expected 273 fields, saw 549\\nSkipping line 25: expected 273 fields, saw 483\\nSkipping line 26: expected 273 fields, saw 549\\nSkipping line 27: expected 273 fields, saw 549\\nSkipping line 34: expected 273 fields, saw 483\\nSkipping line 35: expected 273 fields, saw 549\\nSkipping line 36: expected 273 fields, saw 549\\nSkipping line 43: expected 273 fields, saw 483\\nSkipping line 44: expected 273 fields, saw 549\\nSkipping line 45: expected 273 fields, saw 549\\nSkipping line 52: expected 273 fields, saw 483\\nSkipping line 53: expected 273 fields, saw 549\\nSkipping line 54: expected 273 fields, saw 549\\nSkipping line 61: expected 273 fields, saw 483\\nSkipping line 62: expected 273 fields, saw 549\\nSkipping line 63: expected 273 fields, saw 549\\nSkipping line 70: expected 273 fields, saw 483\\nSkipping line 71: expected 273 fields, saw 549\\nSkipping line 72: expected 273 fields, saw 549\\nSkipping line 79: expected 273 fields, saw 483\\nSkipping line 80: expected 273 fields, saw 549\\nSkipping line 81: expected 273 fields, saw 549\\nSkipping line 82: expected 273 fields, saw 2985\\n'\n"
     ]
    }
   ],
   "source": [
    "#df=pd.read_csv('thermal1.txt', sep='\\t', header=None)\n",
    "df = pd.read_csv(\"Ex02.csv\", sep=',', header=None,error_bad_lines=False)\n",
    "\n"
   ]
  },
  {
   "cell_type": "code",
   "execution_count": 6,
   "id": "12655aaf",
   "metadata": {},
   "outputs": [],
   "source": [
    "temp,columnscount=df.shape\n",
    "df=df.fillna(0)"
   ]
  },
  {
   "cell_type": "code",
   "execution_count": 7,
   "id": "936e38a1",
   "metadata": {},
   "outputs": [],
   "source": [
    "df = df.rename(columns={0: 'Fillfactor', 1: 'Droptol',2: 'Nonzeros'})"
   ]
  },
  {
   "cell_type": "code",
   "execution_count": 8,
   "id": "30d31dca",
   "metadata": {},
   "outputs": [],
   "source": [
    "#df=df.query(\"Fillfactor>1\")"
   ]
  },
  {
   "cell_type": "code",
   "execution_count": 9,
   "id": "06bcaa0c",
   "metadata": {},
   "outputs": [],
   "source": [
    "#test different combinations and compute S_Dbw score\n",
    "clustermax=12\n",
    "optimizationgrid=np.zeros(clustermax-2)\n",
    "scaler = preprocessing.StandardScaler().fit(df.iloc[:,3:columnscount-1:2])\n",
    "scaled_clusterdata=scaler.transform(df.iloc[:,3:columnscount-1:2])\n",
    "for clustercount in range(2,clustermax):\n",
    "    kmeans=KMeans(n_clusters=clustercount)\n",
    "    y=kmeans.fit_predict(scaled_clusterdata)\n",
    "    UnsortedClusters=y\n",
    "    labels=kmeans.labels_\n",
    "    score = S_Dbw(scaled_clusterdata, labels, centers_id=None, method='Halkidi', alg_noise='bind', centr='mean', nearest_centr=True, metric='euclidean')\n",
    "    optimizationgrid[clustercount-2]=score"
   ]
  },
  {
   "cell_type": "code",
   "execution_count": 13,
   "id": "8894d3be",
   "metadata": {},
   "outputs": [],
   "source": [
    "       \n",
    "    \n",
    "# take best option based on the score      \n",
    "minima=np.argwhere((optimizationgrid == np.min(optimizationgrid)))\n",
    "minima=minima[0]\n",
    "clustercount=minima[0]+2\n",
    "#clustercount=11\n",
    "#series=GenerateSeries(dfBeta,SeriesLength)\n",
    "scaler = preprocessing.StandardScaler().fit(df.iloc[:,3:columnscount-1:2])\n",
    "scaled_clusterdata=scaler.transform(df.iloc[:,3:columnscount-1:2])\n",
    "kmeans=KMeans(n_clusters=clustercount)\n",
    "y=kmeans.fit_predict(scaled_clusterdata)\n",
    "UnsortedClusters=y\n",
    "labels=kmeans.labels_\n",
    "score = S_Dbw(scaled_clusterdata, labels, centers_id=None, method='Halkidi', alg_noise='bind', centr='mean', nearest_centr=True, metric='euclidean')\n",
    "\n",
    "\n",
    "#Sort clusters\n",
    "SortingValues=np.zeros(clustercount)\n",
    "SortData=pd.DataFrame(df.iloc[:,columnscount-2])\n",
    "\n",
    "SortData['UnsortedClusters']=y\n",
    "for i in range(0,clustercount):\n",
    "    ResOfCluster=SortData.query(f'UnsortedClusters=={i}')\n",
    "    #print(ResOfCluster.iloc[:,0])\n",
    "    sums=(ResOfCluster.iloc[:,0]).sum()\n",
    "    #print('sums:',sums)\n",
    "    if sums==0:\n",
    "        NonzerosInSeries=0\n",
    "        for j in range(0,len(ResOfCluster.index)):\n",
    "            ToBeCounted=df.loc[ResOfCluster.index[j],:]\n",
    "            NonzerosInSeries= NonzerosInSeries+np.count_nonzero(ToBeCounted, axis=0)\n",
    "        NonzerosInSeries=NonzerosInSeries/len(ResOfCluster.index)\n",
    "        SortingValues[i]=-1000+NonzerosInSeries\n",
    "    else:    \n",
    "        SortingValues[i]=sums/len(ResOfCluster.index)\n",
    "\n",
    "    \n",
    "    \n",
    "Sorting=np.argsort(np.argsort(SortingValues))\n",
    "Clusters=np.zeros(shape=len(UnsortedClusters))\n",
    "for i in range(0,len(Clusters)):\n",
    "    Clusters[i]=Sorting[UnsortedClusters[i]]\n",
    "Clusters=np.int_(Clusters)\n",
    "\n",
    "df['Cluster']=Clusters\n"
   ]
  },
  {
   "cell_type": "code",
   "execution_count": null,
   "id": "e60afc29",
   "metadata": {},
   "outputs": [],
   "source": []
  },
  {
   "cell_type": "code",
   "execution_count": 14,
   "id": "6cb2c36a",
   "metadata": {},
   "outputs": [],
   "source": [
    "#Filter and sort provenance data according to constraints and optimization goals\n",
    "#ILUTNonzerosLimit=76000\n",
    "#ProvenanceData\n",
    "#with pd.option_context('display.max_rows', None, 'display.max_columns', None):  # more options can be specified also\n",
    "#    print(resetindex((ProvenanceData.query(f\"ILUTNonzeros<{ILUTNonzerosLimit}\")).sort_values(by=['Cluster','TimeAtSeriesLengthIteration'])))"
   ]
  },
  {
   "cell_type": "code",
   "execution_count": null,
   "id": "bac384d0",
   "metadata": {},
   "outputs": [],
   "source": []
  },
  {
   "cell_type": "code",
   "execution_count": null,
   "id": "339bebb4",
   "metadata": {},
   "outputs": [],
   "source": []
  },
  {
   "cell_type": "markdown",
   "id": "552c991a",
   "metadata": {},
   "source": [
    "<br>\n",
    "<br>\n",
    "<br>\n",
    "<strong> Visualizing parameter space"
   ]
  },
  {
   "cell_type": "code",
   "execution_count": 15,
   "id": "fc18314b",
   "metadata": {},
   "outputs": [],
   "source": [
    "list=['0','1','2','3','4','5','6','7','8','9','10','11','12','13','14','15','16']\n",
    "for cl in range(0,clustercount):\n",
    "    vars()[\"PredictionGroup\"+list[cl]]=df.query(f\"`Cluster`=={cl}\") #\" and ILUTNonzeros<{ILUTNonzerosLimit}\")"
   ]
  },
  {
   "cell_type": "code",
   "execution_count": 16,
   "id": "5057542f",
   "metadata": {},
   "outputs": [
    {
     "data": {
      "image/png": "[encoded data removed]",
      "text/plain": [
       "<Figure size 432x288 with 1 Axes>"
      ]
     },
     "metadata": {
      "needs_background": "light"
     },
     "output_type": "display_data"
    }
   ],
   "source": [
    "ax = PredictionGroup0.plot(kind='scatter', x='Droptol', y='Fillfactor',color='#920000', label='Group 0');\n",
    "PredictionGroup1.plot(kind='scatter', x='Droptol', y='Fillfactor',marker= \"v\", color='#b6dbff', label='Group 1', ax=ax);\n",
    "if clustercount>2:\n",
    "    PredictionGroup2.plot(kind='scatter', x='Droptol', y='Fillfactor',marker= \"^\", color='#ffb6db', label='Group 2', ax=ax);\n",
    "    if clustercount>3:\n",
    "        PredictionGroup3.plot(kind='scatter', x='Droptol', y='Fillfactor',marker= \"d\",color='grey', label='Group 3', ax=ax);\n",
    "        if clustercount>4:\n",
    "            PredictionGroup4.plot(kind='scatter', x='Droptol', y='Fillfactor',marker= \"<\",color='#24ff24', label='Group 4', ax=ax);\n",
    "            if clustercount>5:\n",
    "                PredictionGroup5.plot(kind='scatter', x='Droptol', y='Fillfactor',marker= \">\",color='#490092', label='Group 5', ax=ax);\n",
    "                if clustercount>6:\n",
    "                    PredictionGroup6.plot(kind='scatter', x='Droptol', y='Fillfactor',marker= \"s\",color='#db6d00', label='Group 6', ax=ax);\n",
    "                    if clustercount>7:\n",
    "                        PredictionGroup7.plot(kind='scatter', x='Droptol', y='Fillfactor',marker= \"*\",color='#b66dff', label='Group 7', ax=ax);\n",
    "                        if clustercount>8:\n",
    "                            PredictionGroup8.plot(kind='scatter', x='Droptol', y='Fillfactor',marker= \"+\",color='#009292', label='Group 8', ax=ax);\n",
    "                            if clustercount>9:\n",
    "                                PredictionGroup9.plot(kind='scatter', x='Droptol', y='Fillfactor',marker= \"x\", color='#924900', label='Group 9', ax=ax);\n",
    "                                if clustercount>10:\n",
    "                                    PredictionGroup10.plot(kind='scatter', x='Droptol', y='Fillfactor',marker= \"X\",color='#006ddb', label='Group 10', ax=ax);\n",
    "                                    if clustercount>11:\n",
    "                                        PredictionGroup11.plot(kind='scatter', x='Droptol', y='Fillfactor',marker= \"D\",color='#004949', label='Group 11', ax=ax);\n",
    "#ax.set_xscale('log')\n",
    "ax.legend(bbox_to_anchor=(1.0, 1.0))\n",
    "#plt.title(f\"Beta=1e{int(math.log10(beta))}, full dataset, all iterations, ILUTNonzeros<{ILUTNonzerosLimit}\")\n",
    "plt.show()"
   ]
  },
  {
   "cell_type": "markdown",
   "id": "03574135",
   "metadata": {},
   "source": [
    "<br>\n",
    "<br>\n",
    "<br>\n",
    "<strong> Visualizing trajectories"
   ]
  },
  {
   "cell_type": "code",
   "execution_count": 17,
   "id": "db3c35de",
   "metadata": {},
   "outputs": [
    {
     "data": {
      "image/png": "[encoded data removed]",
      "text/plain": [
       "<Figure size 432x288 with 1 Axes>"
      ]
     },
     "metadata": {
      "needs_background": "light"
     },
     "output_type": "display_data"
    }
   ],
   "source": [
    "colors=['#920000','#b6dbff','#ffb6db','grey','#24ff24','#490092','#db6d00','#b66dff','#009292','#924900','#006ddb','#004949']\n",
    "length=len(df.index)\n",
    "liste=[None] * length\n",
    "for i in range(0,length):\n",
    "    liste[i-1]=df.iloc[i,3:columnscount:2]\n",
    "for i in range(0,length):\n",
    "    #if df.iloc[i,columnscount]>2:\n",
    "    liste[i-1].plot(use_index=False, color=colors[df.iloc[i,columnscount]])#, label=f'Group {df.iloc[i,1003]}')\n",
    "\n",
    "affiliation=[None] * 10\n",
    "for i in range(0,10):\n",
    "    affiliation[i]= mpatches.Patch(color=colors[i], label=f'Group {i}')\n",
    "\n",
    "plt.legend(handles=affiliation,bbox_to_anchor=(1.0, 1.0))\n",
    "plt.yscale(\"log\")\n",
    "#plt.legend(bbox_to_anchor=(1.0, 1.0))\n",
    "plt.show()"
   ]
  },
  {
   "cell_type": "code",
   "execution_count": null,
   "id": "57809990",
   "metadata": {},
   "outputs": [],
   "source": []
  },
  {
   "cell_type": "code",
   "execution_count": null,
   "id": "9dad9d08",
   "metadata": {},
   "outputs": [],
   "source": []
  }
 ],
 "metadata": {
  "kernelspec": {
   "display_name": "Python 3 (ipykernel)",
   "language": "python",
   "name": "python3"
  },
  "language_info": {
   "codemirror_mode": {
    "name": "ipython",
    "version": 3
   },
   "file_extension": ".py",
   "mimetype": "text/x-python",
   "name": "python",
   "nbconvert_exporter": "python",
   "pygments_lexer": "ipython3",
   "version": "3.7.3"
  }
 },
 "nbformat": 4,
 "nbformat_minor": 5
}
