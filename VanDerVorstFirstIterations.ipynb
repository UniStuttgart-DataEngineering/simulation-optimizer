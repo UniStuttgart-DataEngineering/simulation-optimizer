{
 "cells": [
  {
   "cell_type": "code",
   "execution_count": 10,
   "id": "5853c248",
   "metadata": {},
   "outputs": [],
   "source": [
    "import pandas as pd\n",
    "import numpy as np\n",
    "import matplotlib.pyplot as plt\n",
    "from matplotlib import cm\n",
    "from sklearn.cluster import KMeans\n",
    "from sklearn import preprocessing\n",
    "from sklearn.preprocessing import MinMaxScaler\n",
    "from s_dbw import S_Dbw\n",
    "import math"
   ]
  },
  {
   "cell_type": "code",
   "execution_count": 11,
   "id": "f60d3725",
   "metadata": {},
   "outputs": [],
   "source": [
    "# resets index after selections have been made\n",
    "def resetindex(data):\n",
    "    data=data.reset_index()\n",
    "    data=data.drop('index', axis=1)\n",
    "    return data"
   ]
  },
  {
   "cell_type": "code",
   "execution_count": 12,
   "id": "188be5e6",
   "metadata": {},
   "outputs": [],
   "source": [
    "#reduces the data set to the first m iterations\n",
    "def firstiterations(m,data):\n",
    "    i=0\n",
    "    j=0\n",
    "    n=len(data.index)    \n",
    "    while i<n:\n",
    "        if  (data.iat[j,7]>m):\n",
    "            data=data.drop(i, axis=0)\n",
    "            i=i+1\n",
    "        else:\n",
    "            i=i+1\n",
    "            j=j+1\n",
    "    data=resetindex(data)\n",
    "    return data"
   ]
  },
  {
   "cell_type": "code",
   "execution_count": 13,
   "id": "3c79f116",
   "metadata": {},
   "outputs": [],
   "source": [
    "# Generate a Series with a specific length, so that all residuals of one parameter combination are in one line\n",
    "def GenerateSeries(source, Length):\n",
    "    output=source.iloc[:,[2,3]]\n",
    "    output=output.drop_duplicates()\n",
    "    output=resetindex(output)\n",
    "    for j in range(1, Length+1):\n",
    "        output[f'ResidualNorm{j}']=0.0\n",
    "        for i in range(len(output.index)):\n",
    "            Abfrage=source.query( f\"`Droptol`=={output.iat[i,0]} and `Fillfactor`=={output.iat[i,1]} and Iterations=={j}\")\n",
    "            if len(Abfrage.index)==1:\n",
    "                output.iat[i,j+1]=Abfrage.iat[0,5]\n",
    "            elif len(Abfrage.index)>1:\n",
    "                raise Exception(\"Multiple instances with same Droptol, Fillfactor and Iteration within one Beta\")\n",
    "    return output"
   ]
  },
  {
   "cell_type": "code",
   "execution_count": 17,
   "id": "ff6dc7b6",
   "metadata": {},
   "outputs": [
    {
     "name": "stdout",
     "output_type": "stream",
     "text": [
      "<class 'pandas.core.frame.DataFrame'>\n",
      "RangeIndex: 3214 entries, 0 to 3213\n",
      "Data columns (total 8 columns):\n",
      " #   Column        Non-Null Count  Dtype  \n",
      "---  ------        --------------  -----  \n",
      " 0   Dimension     3214 non-null   int64  \n",
      " 1   Tolerance     3214 non-null   float64\n",
      " 2   Droptol       3214 non-null   float64\n",
      " 3   Fillfactor    3214 non-null   int64  \n",
      " 4   InitialNorm   3214 non-null   float64\n",
      " 5   ResidualNorm  3214 non-null   float64\n",
      " 6   NormQuotient  3214 non-null   float64\n",
      " 7   Iterations    3214 non-null   int64  \n",
      "dtypes: float64(5), int64(3)\n",
      "memory usage: 201.0 KB\n"
     ]
    }
   ],
   "source": [
    "df.info()"
   ]
  },
  {
   "cell_type": "code",
   "execution_count": 18,
   "id": "4f81933f",
   "metadata": {},
   "outputs": [],
   "source": [
    "df=pd.read_csv('VanDerVorst.txt', sep='\\t')"
   ]
  },
  {
   "cell_type": "code",
   "execution_count": 19,
   "id": "9c8e1868",
   "metadata": {},
   "outputs": [],
   "source": [
    "#test different combinations and compute S_Dbw score\n",
    "clustermax=12\n",
    "optimizationgrid=np.zeros([7,clustermax-2])\n",
    "for SeriesLength in range(3,10):\n",
    "    for clustercount in range(2,clustermax):\n",
    "        series=GenerateSeries(df,SeriesLength)\n",
    "        scaler = preprocessing.StandardScaler().fit(series.iloc[:,2:(2+SeriesLength)])\n",
    "        scaled_clusterdata=scaler.transform(series.iloc[:,2:(2+SeriesLength)])\n",
    "        kmeans=KMeans(n_clusters=clustercount)\n",
    "        y=kmeans.fit_predict(scaled_clusterdata)\n",
    "        UnsortedClusters=y\n",
    "        labels=kmeans.labels_\n",
    "        score = S_Dbw(scaled_clusterdata, labels, centers_id=None, method='Halkidi', alg_noise='bind', centr='mean', nearest_centr=True, metric='euclidean')\n",
    "        optimizationgrid[SeriesLength-3,clustercount-2]=score\n",
    "        \n",
    "# take best option based on the score      \n",
    "minima=np.argwhere((optimizationgrid == np.min(optimizationgrid)))\n",
    "minima=minima[0]\n",
    "SeriesLength=minima[0]+3\n",
    "clustercount=minima[1]+2\n",
    "series=GenerateSeries(df,SeriesLength)\n",
    "scaler = preprocessing.StandardScaler().fit(series.iloc[:,2:(2+SeriesLength)])\n",
    "scaled_clusterdata=scaler.transform(series.iloc[:,2:(2+SeriesLength)])\n",
    "kmeans=KMeans(n_clusters=clustercount)\n",
    "y=kmeans.fit_predict(scaled_clusterdata)\n",
    "UnsortedClusters=y\n",
    "labels=kmeans.labels_\n",
    "score = S_Dbw(scaled_clusterdata, labels, centers_id=None, method='Halkidi', alg_noise='bind', centr='mean', nearest_centr=True, metric='euclidean')\n",
    "\n",
    "\n",
    "#Take best combination and sort clusters\n",
    "SortingValues=np.zeros(clustercount)\n",
    "SortData=pd.DataFrame(series[f'ResidualNorm{SeriesLength}'])\n",
    "SortData['UnsortedClusters']=y\n",
    "for i in range(0,clustercount):\n",
    "    ResOfCluster=SortData.query(f'UnsortedClusters=={i}')\n",
    "    sums=ResOfCluster[f\"ResidualNorm{SeriesLength}\"].sum()\n",
    "    SortingValues[i]=sums/len(ResOfCluster.index)\n",
    "    \n",
    "Sorting=np.argsort(np.argsort(SortingValues))\n",
    "Clusters=np.zeros(shape=len(UnsortedClusters))\n",
    "for i in range(0,len(Clusters)):\n",
    "    Clusters[i]=Sorting[UnsortedClusters[i]]\n",
    "Clusters=np.int_(Clusters)\n",
    "\n",
    "series['Cluster']=Clusters\n"
   ]
  },
  {
   "cell_type": "code",
   "execution_count": null,
   "id": "8ea82855",
   "metadata": {},
   "outputs": [],
   "source": []
  },
  {
   "cell_type": "code",
   "execution_count": 20,
   "id": "4d639b1c",
   "metadata": {},
   "outputs": [],
   "source": [
    "list=['0','1','2','3','4','5','6','7','8','9','10','11','12','13']\n",
    "for cl in range(0,clustercount):\n",
    "    vars()[\"PredictionGroup\"+list[cl]]=series.query(f\"`Cluster`=={cl}\")"
   ]
  },
  {
   "cell_type": "code",
   "execution_count": 30,
   "id": "983ac953",
   "metadata": {},
   "outputs": [
    {
     "data": {
      "image/png": "[encoded data removed]",
      "text/plain": [
       "<Figure size 432x288 with 1 Axes>"
      ]
     },
     "metadata": {
      "needs_background": "light"
     },
     "output_type": "display_data"
    }
   ],
   "source": [
    "ax = PredictionGroup0.plot(kind='scatter', x='Droptol', y='Fillfactor',color='blue', label='Group 0');\n",
    "PredictionGroup1.plot(kind='scatter', x='Droptol', y='Fillfactor',marker= \"v\", color='red', label='Group 1', ax=ax);\n",
    "if clustercount>2:\n",
    "    PredictionGroup2.plot(kind='scatter', x='Droptol', y='Fillfactor',marker= \"^\", color='green', label='Group 2', ax=ax);\n",
    "    if clustercount>3:\n",
    "        PredictionGroup3.plot(kind='scatter', x='Droptol', y='Fillfactor',marker= \"^\",color='orange', label='Group 3', ax=ax);\n",
    "        if clustercount>4:\n",
    "            PredictionGroup4.plot(kind='scatter', x='Droptol', y='Fillfactor',marker= \"<\",color='cyan', label='Group 4', ax=ax);\n",
    "            if clustercount>5:\n",
    "                PredictionGroup5.plot(kind='scatter', x='Droptol', y='Fillfactor',marker= \">\",color='gray', label='Group 5', ax=ax);\n",
    "                if clustercount>6:\n",
    "                    PredictionGroup6.plot(kind='scatter', x='Droptol', y='Fillfactor',marker= \"s\",color='brown', label='Group 6', ax=ax);\n",
    "                    if clustercount>7:\n",
    "                        PredictionGroup7.plot(kind='scatter', x='Droptol', y='Fillfactor',marker= \"*\",color='magenta', label='Group 7', ax=ax);\n",
    "                        if clustercount>8:\n",
    "                            PredictionGroup8.plot(kind='scatter', x='Droptol', y='Fillfactor',marker= \"+\",color='olive', label='Group 8', ax=ax);\n",
    "                            if clustercount>9:\n",
    "                                PredictionGroup9.plot(kind='scatter', x='Droptol', y='Fillfactor',marker= \"x\", color='black', label='Group 9', ax=ax);\n",
    "                                if clustercount>10:\n",
    "                                    PredictionGroup10.plot(kind='scatter', x='Droptol', y='Fillfactor',marker= \"X\",color='darkorchid', label='Group 10', ax=ax);\n",
    "                                    if clustercount>11:\n",
    "                                        PredictionGroup11.plot(kind='scatter', x='Droptol', y='Fillfactor',marker= \"D\",color='mistyrose', label='Group 11', ax=ax);\n",
    "\n",
    "ax.set_xscale('log')\n",
    "ax.legend(bbox_to_anchor=(1.0, 1.0))\n",
    "plt.title(\"VanDerVorst, all datapoints, first iterations\")\n",
    "plt.show()"
   ]
  },
  {
   "cell_type": "code",
   "execution_count": null,
   "id": "6eb6a6dc",
   "metadata": {},
   "outputs": [],
   "source": []
  },
  {
   "cell_type": "code",
   "execution_count": 24,
   "id": "57d10723",
   "metadata": {},
   "outputs": [
    {
     "name": "stdout",
     "output_type": "stream",
     "text": [
      "<class 'pandas.core.frame.DataFrame'>\n",
      "RangeIndex: 3214 entries, 0 to 3213\n",
      "Data columns (total 8 columns):\n",
      " #   Column        Non-Null Count  Dtype  \n",
      "---  ------        --------------  -----  \n",
      " 0   Dimension     3214 non-null   int64  \n",
      " 1   Tolerance     3214 non-null   float64\n",
      " 2   Droptol       3214 non-null   float64\n",
      " 3   Fillfactor    3214 non-null   int64  \n",
      " 4   InitialNorm   3214 non-null   float64\n",
      " 5   ResidualNorm  3214 non-null   float64\n",
      " 6   NormQuotient  3214 non-null   float64\n",
      " 7   Iterations    3214 non-null   int64  \n",
      "dtypes: float64(5), int64(3)\n",
      "memory usage: 201.0 KB\n"
     ]
    }
   ],
   "source": [
    "df.info()"
   ]
  },
  {
   "cell_type": "code",
   "execution_count": 25,
   "id": "afbef24d",
   "metadata": {},
   "outputs": [],
   "source": [
    "df['Cluster']=0\n",
    "\n",
    "for i in range(len(df.index)):\n",
    "    df.iat[i,8]=(series.query(f\"`Droptol`=={df.iat[i,2]} and `Fillfactor`=={df.iat[i,3]}\")).iat[0,SeriesLength+2]\n",
    "    \n",
    "    \n",
    "list=['0','1','2','3','4','5','6','7','8','9','10','11','12','13']\n",
    "for cl in range(0,clustercount):\n",
    "    vars()[\"Group\"+list[cl]]=df.query(f\"`Cluster`=={cl}\")\n"
   ]
  },
  {
   "cell_type": "code",
   "execution_count": 28,
   "id": "69b3e479",
   "metadata": {},
   "outputs": [
    {
     "data": {
      "image/png": "[encoded data removed]",
      "text/plain": [
       "<Figure size 432x288 with 1 Axes>"
      ]
     },
     "metadata": {
      "needs_background": "light"
     },
     "output_type": "display_data"
    }
   ],
   "source": [
    "ax = Group0.plot(kind='scatter', x='Iterations', y='ResidualNorm',color='blue', label='Group 0',s=0.5);\n",
    "Group1.plot(kind='scatter', x='Iterations', y='ResidualNorm',color='red', label='Group 1',ax=ax,s=0.5);\n",
    "if clustercount>2:\n",
    "    Group2.plot(kind='scatter', x='Iterations', y='ResidualNorm',color='green', label='Group 2',ax=ax,s=0.5);\n",
    "    if clustercount>3:\n",
    "        Group3.plot(kind='scatter', x='Iterations', y='ResidualNorm',color='orange', label='Group 3',ax=ax,s=0.5);\n",
    "        if clustercount>4:\n",
    "            Group4.plot(kind='scatter', x='Iterations', y='ResidualNorm',color='cyan', label='Group 4',ax=ax,s=0.5);\n",
    "            if clustercount>5:\n",
    "                Group5.plot(kind='scatter', x='Iterations', y='ResidualNorm',color='gray', label='Group 5', ax=ax,s=0.5);\n",
    "                if clustercount>6:\n",
    "                    Group6.plot(kind='scatter', x='Iterations', y='ResidualNorm',color='brown', label='Group 6', ax=ax,s=0.5);\n",
    "                    if clustercount>7:\n",
    "                        Group7.plot(kind='scatter', x='Iterations', y='ResidualNorm',color='magenta', label='Group 7', ax=ax,s=0.5);\n",
    "                        if clustercount>8:\n",
    "                            Group8.plot(kind='scatter', x='Iterations', y='ResidualNorm',color='olive', label='Group 8', ax=ax,s=0.5);\n",
    "                            if clustercount>9:\n",
    "                                Group9.plot(kind='scatter', x='Iterations', y='ResidualNorm',color='black', label='Group 9', ax=ax,s=0.5);\n",
    "                                if clustercount>10:\n",
    "                                    Group10.plot(kind='scatter', x='Iterations', y='ResidualNorm',color='darkorchid', label='Group 10', ax=ax,s=0.5);\n",
    "                                    if clustercount>11:\n",
    "                                        Group11.plot(kind='scatter', x='Iterations', y='ResidualNorm',color='mistyrose', label='Group 11', ax=ax,s=0.5);\n",
    "                                \n",
    "                                \n",
    "ax.set_yscale('log')\n",
    "ax.set_xlim(0,100)\n",
    "plt.title(\"VanDerVorst, all datapoints, first iterations\")\n",
    "plt.legend(loc='lower right')\n",
    "plt.show() "
   ]
  },
  {
   "cell_type": "code",
   "execution_count": null,
   "id": "7967c05c",
   "metadata": {},
   "outputs": [],
   "source": []
  }
 ],
 "metadata": {
  "kernelspec": {
   "display_name": "Python 3 (ipykernel)",
   "language": "python",
   "name": "python3"
  },
  "language_info": {
   "codemirror_mode": {
    "name": "ipython",
    "version": 3
   },
   "file_extension": ".py",
   "mimetype": "text/x-python",
   "name": "python",
   "nbconvert_exporter": "python",
   "pygments_lexer": "ipython3",
   "version": "3.7.3"
  }
 },
 "nbformat": 4,
 "nbformat_minor": 5
}
