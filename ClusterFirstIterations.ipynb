{
 "cells": [
  {
   "cell_type": "code",
   "execution_count": 1,
   "id": "1e48fd59",
   "metadata": {},
   "outputs": [],
   "source": [
    "import pandas as pd\n",
    "import numpy as np\n",
    "import matplotlib.pyplot as plt\n",
    "from matplotlib import cm\n",
    "from sklearn.cluster import KMeans\n",
    "from sklearn import preprocessing\n",
    "from sklearn.preprocessing import MinMaxScaler\n",
    "from s_dbw import S_Dbw\n",
    "import math"
   ]
  },
  {
   "cell_type": "code",
   "execution_count": 2,
   "id": "e6290e11",
   "metadata": {},
   "outputs": [],
   "source": [
    "# resets index after selections have been made\n",
    "def resetindex(data):\n",
    "    data=data.reset_index()\n",
    "    data=data.drop('index', axis=1)\n",
    "    return data"
   ]
  },
  {
   "cell_type": "code",
   "execution_count": 3,
   "id": "b46d6a3a",
   "metadata": {},
   "outputs": [],
   "source": [
    "#reduces the data set to the first m iterations\n",
    "def firstiterations(m,data):\n",
    "    i=0\n",
    "    j=0\n",
    "    n=len(data.index)    \n",
    "    while i<n:\n",
    "        if  (data.iat[j,10]>m):\n",
    "            data=data.drop(i, axis=0)\n",
    "            i=i+1\n",
    "        else:\n",
    "            i=i+1\n",
    "            j=j+1\n",
    "    data=resetindex(data)\n",
    "    return data"
   ]
  },
  {
   "cell_type": "code",
   "execution_count": 4,
   "id": "9cea24ef",
   "metadata": {},
   "outputs": [],
   "source": [
    "# Generate a Series with a specific length, so that all residuals of one parameter combination are in one line\n",
    "def GenerateSeries(source, Length):\n",
    "    output=source.iloc[:,[4,5]]\n",
    "    output=output.drop_duplicates()\n",
    "    output=resetindex(output)\n",
    "    for j in range(1, Length+1):\n",
    "        output[f'ResidualNorm{j}']=0.0\n",
    "        for i in range(len(output.index)):\n",
    "            Abfrage=source.query( f\"`Droptol`=={output.iat[i,0]} and `Fillfactor`=={output.iat[i,1]} and Iterations=={j}\")\n",
    "            if len(Abfrage.index)==1:\n",
    "                output.iat[i,j+1]=Abfrage.iat[0,8]\n",
    "            elif len(Abfrage.index)>1:\n",
    "                raise Exception(\"Multiple instances with same Droptol, Fillfactor and Iteration within one Beta\")\n",
    "    return output"
   ]
  },
  {
   "cell_type": "code",
   "execution_count": 131,
   "id": "80c358e0",
   "metadata": {},
   "outputs": [],
   "source": [
    "df=pd.read_csv('PCGDim16129.txt', sep='\\t')\n",
    "df=df.drop('Convergence Mode', axis=1)\n",
    "\n",
    "beta=1e3\n",
    "dfBeta=df.query(f\"Beta=={beta}\")\n",
    "dfBeta=resetindex(dfBeta)"
   ]
  },
  {
   "cell_type": "code",
   "execution_count": 132,
   "id": "e2dc6be0",
   "metadata": {},
   "outputs": [],
   "source": [
    "#test different combinations and compute S_Dbw score\n",
    "clustermax=12\n",
    "optimizationgrid=np.zeros([7,clustermax-2])\n",
    "for SeriesLength in range(3,10):\n",
    "    for clustercount in range(2,clustermax):\n",
    "        series=GenerateSeries(dfBeta,SeriesLength)\n",
    "        scaler = preprocessing.StandardScaler().fit(series.iloc[:,2:(2+SeriesLength)])\n",
    "        scaled_clusterdata=scaler.transform(series.iloc[:,2:(2+SeriesLength)])\n",
    "        kmeans=KMeans(n_clusters=clustercount)\n",
    "        y=kmeans.fit_predict(scaled_clusterdata)\n",
    "        UnsortedClusters=y\n",
    "        labels=kmeans.labels_\n",
    "        score = S_Dbw(scaled_clusterdata, labels, centers_id=None, method='Halkidi', alg_noise='bind', centr='mean', nearest_centr=True, metric='euclidean')\n",
    "        optimizationgrid[SeriesLength-3,clustercount-2]=score\n",
    "        \n",
    "# take best option based on the score      \n",
    "minima=np.argwhere((optimizationgrid == np.min(optimizationgrid)))\n",
    "minima=minima[0]\n",
    "SeriesLength=minima[0]+3\n",
    "clustercount=minima[1]+2\n",
    "series=GenerateSeries(dfBeta,SeriesLength)\n",
    "scaler = preprocessing.StandardScaler().fit(series.iloc[:,2:(2+SeriesLength)])\n",
    "scaled_clusterdata=scaler.transform(series.iloc[:,2:(2+SeriesLength)])\n",
    "kmeans=KMeans(n_clusters=clustercount)\n",
    "y=kmeans.fit_predict(scaled_clusterdata)\n",
    "UnsortedClusters=y\n",
    "labels=kmeans.labels_\n",
    "score = S_Dbw(scaled_clusterdata, labels, centers_id=None, method='Halkidi', alg_noise='bind', centr='mean', nearest_centr=True, metric='euclidean')\n",
    "\n",
    "\n",
    "#Take best combination and sort clusters\n",
    "SortingValues=np.zeros(clustercount)\n",
    "SortData=pd.DataFrame(series[f'ResidualNorm{SeriesLength}'])\n",
    "SortData['UnsortedClusters']=y\n",
    "for i in range(0,clustercount):\n",
    "    ResOfCluster=SortData.query(f'UnsortedClusters=={i}')\n",
    "    sums=ResOfCluster[f\"ResidualNorm{SeriesLength}\"].sum()\n",
    "    SortingValues[i]=sums/len(ResOfCluster.index)\n",
    "    \n",
    "Sorting=np.argsort(np.argsort(SortingValues))\n",
    "Clusters=np.zeros(shape=len(UnsortedClusters))\n",
    "for i in range(0,len(Clusters)):\n",
    "    Clusters[i]=Sorting[UnsortedClusters[i]]\n",
    "Clusters=np.int_(Clusters)\n",
    "\n",
    "series['Cluster']=Clusters\n"
   ]
  },
  {
   "cell_type": "code",
   "execution_count": null,
   "id": "ea95d97d",
   "metadata": {},
   "outputs": [],
   "source": []
  },
  {
   "cell_type": "code",
   "execution_count": null,
   "id": "f191a497",
   "metadata": {},
   "outputs": [],
   "source": []
  },
  {
   "cell_type": "code",
   "execution_count": 135,
   "id": "aad7b590",
   "metadata": {},
   "outputs": [
    {
     "data": {
      "text/html": [
       "<div>\n",
       "<style scoped>\n",
       "    .dataframe tbody tr th:only-of-type {\n",
       "        vertical-align: middle;\n",
       "    }\n",
       "\n",
       "    .dataframe tbody tr th {\n",
       "        vertical-align: top;\n",
       "    }\n",
       "\n",
       "    .dataframe thead th {\n",
       "        text-align: right;\n",
       "    }\n",
       "</style>\n",
       "<table border=\"1\" class=\"dataframe\">\n",
       "  <thead>\n",
       "    <tr style=\"text-align: right;\">\n",
       "      <th></th>\n",
       "      <th>Droptol</th>\n",
       "      <th>Fillfactor</th>\n",
       "      <th>ILUTNonzeros</th>\n",
       "      <th>TimeAtSeriesLengthIteration</th>\n",
       "      <th>Cluster</th>\n",
       "    </tr>\n",
       "  </thead>\n",
       "  <tbody>\n",
       "    <tr>\n",
       "      <th>0</th>\n",
       "      <td>1.000000e-12</td>\n",
       "      <td>0</td>\n",
       "      <td>16129</td>\n",
       "      <td>0.018901</td>\n",
       "      <td>8</td>\n",
       "    </tr>\n",
       "    <tr>\n",
       "      <th>1</th>\n",
       "      <td>1.000000e-12</td>\n",
       "      <td>1</td>\n",
       "      <td>53455</td>\n",
       "      <td>0.021531</td>\n",
       "      <td>10</td>\n",
       "    </tr>\n",
       "    <tr>\n",
       "      <th>2</th>\n",
       "      <td>1.000000e-12</td>\n",
       "      <td>2</td>\n",
       "      <td>124511</td>\n",
       "      <td>0.039035</td>\n",
       "      <td>7</td>\n",
       "    </tr>\n",
       "    <tr>\n",
       "      <th>3</th>\n",
       "      <td>1.000000e-12</td>\n",
       "      <td>3</td>\n",
       "      <td>158876</td>\n",
       "      <td>0.044981</td>\n",
       "      <td>5</td>\n",
       "    </tr>\n",
       "    <tr>\n",
       "      <th>4</th>\n",
       "      <td>1.000000e-12</td>\n",
       "      <td>4</td>\n",
       "      <td>200264</td>\n",
       "      <td>0.05593</td>\n",
       "      <td>3</td>\n",
       "    </tr>\n",
       "    <tr>\n",
       "      <th>...</th>\n",
       "      <td>...</td>\n",
       "      <td>...</td>\n",
       "      <td>...</td>\n",
       "      <td>...</td>\n",
       "      <td>...</td>\n",
       "    </tr>\n",
       "    <tr>\n",
       "      <th>85</th>\n",
       "      <td>1.000000e+04</td>\n",
       "      <td>5</td>\n",
       "      <td>16129</td>\n",
       "      <td>0.013079</td>\n",
       "      <td>8</td>\n",
       "    </tr>\n",
       "    <tr>\n",
       "      <th>86</th>\n",
       "      <td>1.000000e+04</td>\n",
       "      <td>6</td>\n",
       "      <td>16129</td>\n",
       "      <td>0.011992</td>\n",
       "      <td>8</td>\n",
       "    </tr>\n",
       "    <tr>\n",
       "      <th>87</th>\n",
       "      <td>1.000000e+04</td>\n",
       "      <td>7</td>\n",
       "      <td>16129</td>\n",
       "      <td>0.012679</td>\n",
       "      <td>8</td>\n",
       "    </tr>\n",
       "    <tr>\n",
       "      <th>88</th>\n",
       "      <td>1.000000e+04</td>\n",
       "      <td>8</td>\n",
       "      <td>16129</td>\n",
       "      <td>0.013245</td>\n",
       "      <td>8</td>\n",
       "    </tr>\n",
       "    <tr>\n",
       "      <th>89</th>\n",
       "      <td>1.000000e+04</td>\n",
       "      <td>9</td>\n",
       "      <td>16129</td>\n",
       "      <td>0.016205</td>\n",
       "      <td>8</td>\n",
       "    </tr>\n",
       "  </tbody>\n",
       "</table>\n",
       "<p>90 rows × 5 columns</p>\n",
       "</div>"
      ],
      "text/plain": [
       "         Droptol  Fillfactor ILUTNonzeros TimeAtSeriesLengthIteration  Cluster\n",
       "0   1.000000e-12           0        16129                    0.018901        8\n",
       "1   1.000000e-12           1        53455                    0.021531       10\n",
       "2   1.000000e-12           2       124511                    0.039035        7\n",
       "3   1.000000e-12           3       158876                    0.044981        5\n",
       "4   1.000000e-12           4       200264                     0.05593        3\n",
       "..           ...         ...          ...                         ...      ...\n",
       "85  1.000000e+04           5        16129                    0.013079        8\n",
       "86  1.000000e+04           6        16129                    0.011992        8\n",
       "87  1.000000e+04           7        16129                    0.012679        8\n",
       "88  1.000000e+04           8        16129                    0.013245        8\n",
       "89  1.000000e+04           9        16129                    0.016205        8\n",
       "\n",
       "[90 rows x 5 columns]"
      ]
     },
     "execution_count": 135,
     "metadata": {},
     "output_type": "execute_result"
    }
   ],
   "source": [
    "#Generate final provenance data, includig Droptol, Fillfactor, ILUTNonzeros, Time, and Cluster\n",
    "series['ILUTNonzeros']=''\n",
    "series['TimeAtSeriesLengthIteration']=''\n",
    "lengthBasis=len(series.index)\n",
    "for i in range(0,lengthBasis):\n",
    "    series.iat[i,3+SeriesLength]=(dfBeta.query(f\"Droptol=={series.iat[i,0]} and Fillfactor=={series.iat[i,1]}\")).iat[0,0]\n",
    "    series.iat[i,4+SeriesLength]=((dfBeta.query(f\"Droptol=={series.iat[i,0]} and Fillfactor=={series.iat[i,1]} and Iterations<(1+{SeriesLength})\")).sort_values(by=['Iterations'],ascending=False)).iat[0,11] + ((dfBeta.query(f\"Droptol=={series.iat[i,0]} and Fillfactor=={series.iat[i,1]} and Iterations<(1+{SeriesLength})\")).sort_values(by=['Iterations'],ascending=False)).iat[0,12]\n",
    "    \n",
    "ProvenanceData=series[['Droptol','Fillfactor','ILUTNonzeros','TimeAtSeriesLengthIteration','Cluster']]\n",
    "ProvenanceData"
   ]
  },
  {
   "cell_type": "code",
   "execution_count": 136,
   "id": "edfc7fad",
   "metadata": {
    "scrolled": true
   },
   "outputs": [
    {
     "name": "stdout",
     "output_type": "stream",
     "text": [
      "         Droptol  Fillfactor ILUTNonzeros TimeAtSeriesLengthIteration  Cluster\n",
      "0   1.000000e-04           7       186140                    0.030236        0\n",
      "1   1.000000e-04           6       183279                    0.030645        0\n",
      "2   1.000000e-04           9       191077                    0.032825        0\n",
      "3   1.000000e-04           8       189434                    0.034417        0\n",
      "4   1.000000e-06           6       213371                    0.036161        0\n",
      "5   1.000000e-06           7       219469                    0.036568        0\n",
      "6   1.000000e-06           8       226310                    0.039199        0\n",
      "7   1.000000e-06           9       229789                    0.040651        0\n",
      "8   1.000000e-08           6       245485                    0.050414        0\n",
      "9   1.000000e-10           7       271290                    0.051111        0\n",
      "10  1.000000e-10           6       254212                    0.054377        0\n",
      "11  1.000000e-08           7       257717                     0.05444        0\n",
      "12  1.000000e-10           9       302443                     0.06061        0\n",
      "13  1.000000e-08           8       271448                    0.061894        0\n",
      "14  1.000000e-08           9       278353                    0.062847        0\n",
      "15  1.000000e-10           8       291355                    0.064575        0\n",
      "16  1.000000e-12           6       255818                    0.065094        0\n",
      "17  1.000000e-12           9       311515                    0.066718        0\n",
      "18  1.000000e-12           7       274236                    0.067445        0\n",
      "19  1.000000e-12           8       297911                    0.068324        0\n"
     ]
    }
   ],
   "source": [
    "#Filter and sort provenance data according to constraints and optimization goals\n",
    "\n",
    "ILUTNonzerosLimit=160275\n",
    "ProvenanceData\n",
    "with pd.option_context('display.max_rows', None, 'display.max_columns', None):  # more options can be specified also\n",
    "    print(resetindex((ProvenanceData.query(\"Cluster==0\")).sort_values(by=['TimeAtSeriesLengthIteration'])))\n",
    "    #print(resetindex((ProvenanceData.query(\"Cluster<3\")).sort_values(by=['ILUTNonzeros','TimeAtSeriesLengthIteration'])))\n",
    "    #print(resetindex((ProvenanceData.query(f\"ILUTNonzeros<{ILUTNonzerosLimit}\")).sort_values(by=['Cluster','ILUTNonzeros','TimeAtSeriesLengthIteration'])))\n",
    "    #print(resetindex((ProvenanceData.query(f\"ILUTNonzeros<{ILUTNonzerosLimit}\")).sort_values(by=['Cluster','TimeAtSeriesLengthIteration'])))"
   ]
  },
  {
   "cell_type": "code",
   "execution_count": null,
   "id": "2903cd42",
   "metadata": {},
   "outputs": [],
   "source": []
  },
  {
   "cell_type": "markdown",
   "id": "f1174ec6",
   "metadata": {},
   "source": [
    "<br>\n",
    "<br>\n",
    "<br>\n",
    "<strong> Visualizing parameter space"
   ]
  },
  {
   "cell_type": "code",
   "execution_count": 137,
   "id": "a8624856",
   "metadata": {},
   "outputs": [],
   "source": [
    "list=['0','1','2','3','4','5','6','7','8','9','10','11','12','13']\n",
    "for cl in range(0,clustercount):\n",
    "    vars()[\"PredictionGroup\"+list[cl]]=ProvenanceData.query(f\"`Cluster`=={cl} and ILUTNonzeros<{ILUTNonzerosLimit}\")"
   ]
  },
  {
   "cell_type": "code",
   "execution_count": 138,
   "id": "5f56cacb",
   "metadata": {},
   "outputs": [
    {
     "data": {
      "image/png": "[encoded data removed]",
      "text/plain": [
       "<Figure size 432x288 with 1 Axes>"
      ]
     },
     "metadata": {
      "needs_background": "light"
     },
     "output_type": "display_data"
    }
   ],
   "source": [
    "ax = PredictionGroup0.plot(kind='scatter', x='Droptol', y='Fillfactor',color='#920000', label='Group 0');\n",
    "PredictionGroup1.plot(kind='scatter', x='Droptol', y='Fillfactor',marker= \"v\", color='#b6dbff', label='Group 1', ax=ax);\n",
    "if clustercount>2:\n",
    "    PredictionGroup2.plot(kind='scatter', x='Droptol', y='Fillfactor',marker= \"^\", color='#ffb6db', label='Group 2', ax=ax);\n",
    "    if clustercount>3:\n",
    "        PredictionGroup3.plot(kind='scatter', x='Droptol', y='Fillfactor',marker= \"d\",color='grey', label='Group 3', ax=ax);\n",
    "        if clustercount>4:\n",
    "            PredictionGroup4.plot(kind='scatter', x='Droptol', y='Fillfactor',marker= \"<\",color='#24ff24', label='Group 4', ax=ax);\n",
    "            if clustercount>5:\n",
    "                PredictionGroup5.plot(kind='scatter', x='Droptol', y='Fillfactor',marker= \">\",color='#490092', label='Group 5', ax=ax);\n",
    "                if clustercount>6:\n",
    "                    PredictionGroup6.plot(kind='scatter', x='Droptol', y='Fillfactor',marker= \"s\",color='#db6d00', label='Group 6', ax=ax);\n",
    "                    if clustercount>7:\n",
    "                        PredictionGroup7.plot(kind='scatter', x='Droptol', y='Fillfactor',marker= \"*\",color='#b66dff', label='Group 7', ax=ax);\n",
    "                        if clustercount>8:\n",
    "                            PredictionGroup8.plot(kind='scatter', x='Droptol', y='Fillfactor',marker= \"+\",color='#009292', label='Group 8', ax=ax);\n",
    "                            if clustercount>9:\n",
    "                                PredictionGroup9.plot(kind='scatter', x='Droptol', y='Fillfactor',marker= \"x\", color='#924900', label='Group 9', ax=ax);\n",
    "                                if clustercount>10:\n",
    "                                    PredictionGroup10.plot(kind='scatter', x='Droptol', y='Fillfactor',marker= \"X\",color='#006ddb', label='Group 10', ax=ax);\n",
    "                                    if clustercount>11:\n",
    "                                        PredictionGroup11.plot(kind='scatter', x='Droptol', y='Fillfactor',marker= \"D\",color='#004949', label='Group 11', ax=ax);\n",
    "\n",
    "ax.set_xscale('log')\n",
    "ax.legend(bbox_to_anchor=(1.0, 1.0))\n",
    "plt.title(f\"Beta=1e{int(math.log10(beta))}, all datapoints, first iterations, ILUTNonzeros<{ILUTNonzerosLimit}\")\n",
    "plt.show()"
   ]
  },
  {
   "cell_type": "markdown",
   "id": "4fa346ab",
   "metadata": {},
   "source": [
    "<br>\n",
    "<br>\n",
    "<br>\n",
    "<strong> Visualizing trajectories"
   ]
  },
  {
   "cell_type": "code",
   "execution_count": 37,
   "id": "ac088fb7",
   "metadata": {},
   "outputs": [],
   "source": [
    "dfBeta['Cluster']=0\n",
    "\n",
    "for i in range(len(dfBeta.index)):\n",
    "    dfBeta.iat[i,15]=(series.query(f\"`Droptol`=={dfBeta.iat[i,4]} and `Fillfactor`=={dfBeta.iat[i,5]}\")).iat[0,SeriesLength+2]\n",
    "    \n",
    "    \n",
    "list=['0','1','2','3','4','5','6','7','8','9','10','11','12','13']\n",
    "for cl in range(0,clustercount):\n",
    "    vars()[\"Group\"+list[cl]]=dfBeta.query(f\"`Cluster`=={cl} and ILUTNonzeros<{ILUTNonzerosLimit}\")\n"
   ]
  },
  {
   "cell_type": "code",
   "execution_count": 38,
   "id": "942c362d",
   "metadata": {},
   "outputs": [
    {
     "data": {
      "image/png": "[encoded data removed]",
      "text/plain": [
       "<Figure size 432x288 with 1 Axes>"
      ]
     },
     "metadata": {
      "needs_background": "light"
     },
     "output_type": "display_data"
    }
   ],
   "source": [
    "ax = Group0.plot(kind='scatter', x='Iterations', y='ResidualNorm',color='#920000', label='Group 0');\n",
    "Group1.plot(kind='scatter', x='Iterations', y='ResidualNorm',marker= \"v\",color='#b6dbff', label='Group 1',ax=ax);\n",
    "if clustercount>2:\n",
    "    Group2.plot(kind='scatter', x='Iterations', y='ResidualNorm',marker= \"^\",color='#ffb6db', label='Group 2',ax=ax);\n",
    "    if clustercount>3:\n",
    "        Group3.plot(kind='scatter', x='Iterations', y='ResidualNorm',marker= \"d\",color='grey', label='Group 3',ax=ax);\n",
    "        if clustercount>4:\n",
    "            Group4.plot(kind='scatter', x='Iterations', y='ResidualNorm',marker= \"<\",color='#24ff24', label='Group 4',ax=ax);\n",
    "            if clustercount>5:\n",
    "                Group5.plot(kind='scatter', x='Iterations', y='ResidualNorm',marker= \">\",color='#490092', label='Group 5', ax=ax);\n",
    "                if clustercount>6:\n",
    "                    Group6.plot(kind='scatter', x='Iterations', y='ResidualNorm',marker= \"s\",color='#db6d00', label='Group 6', ax=ax);\n",
    "                    if clustercount>7:\n",
    "                        Group7.plot(kind='scatter', x='Iterations', y='ResidualNorm',marker= \"*\",color='#b66dff', label='Group 7', ax=ax);\n",
    "                        if clustercount>8:\n",
    "                            Group8.plot(kind='scatter', x='Iterations', y='ResidualNorm',marker= \"+\",color='#009292', label='Group 8', ax=ax);\n",
    "                            if clustercount>9:\n",
    "                                Group9.plot(kind='scatter', x='Iterations', y='ResidualNorm',marker= \"x\",color='#924900', label='Group 9', ax=ax);\n",
    "                                if clustercount>10:\n",
    "                                    Group10.plot(kind='scatter', x='Iterations', y='ResidualNorm',marker= \"X\",color='#006ddb', label='Group 10', ax=ax);\n",
    "                                    if clustercount>11:\n",
    "                                        Group11.plot(kind='scatter', x='Iterations', y='ResidualNorm',marker= \"D\",color='#004949', label='Group 11', ax=ax);\n",
    "                                                                     \n",
    "ax.set_yscale('log')\n",
    "ax.set_xlim(0,200)\n",
    "plt.title(f\"Beta=1e{int(math.log10(beta))}, all datapoints, first iterations, ILUTNonzeros<{ILUTNonzerosLimit}\")\n",
    "plt.legend(loc='lower right')\n",
    "plt.show() "
   ]
  },
  {
   "cell_type": "code",
   "execution_count": null,
   "id": "6d604353",
   "metadata": {},
   "outputs": [],
   "source": []
  },
  {
   "cell_type": "code",
   "execution_count": null,
   "id": "57c0335d",
   "metadata": {},
   "outputs": [],
   "source": []
  },
  {
   "cell_type": "code",
   "execution_count": null,
   "id": "a2c77029",
   "metadata": {},
   "outputs": [],
   "source": []
  },
  {
   "cell_type": "code",
   "execution_count": null,
   "id": "9eb96577",
   "metadata": {},
   "outputs": [],
   "source": []
  },
  {
   "cell_type": "code",
   "execution_count": null,
   "id": "0918ff44",
   "metadata": {},
   "outputs": [],
   "source": []
  }
 ],
 "metadata": {
  "kernelspec": {
   "display_name": "Python 3 (ipykernel)",
   "language": "python",
   "name": "python3"
  },
  "language_info": {
   "codemirror_mode": {
    "name": "ipython",
    "version": 3
   },
   "file_extension": ".py",
   "mimetype": "text/x-python",
   "name": "python",
   "nbconvert_exporter": "python",
   "pygments_lexer": "ipython3",
   "version": "3.7.3"
  }
 },
 "nbformat": 4,
 "nbformat_minor": 5
}
