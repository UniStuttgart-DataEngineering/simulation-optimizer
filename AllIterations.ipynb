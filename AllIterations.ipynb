{
 "cells": [
  {
   "cell_type": "code",
   "execution_count": 1,
   "id": "c9b80248",
   "metadata": {},
   "outputs": [],
   "source": [
    "import pandas as pd\n",
    "import numpy as np\n",
    "import matplotlib.pyplot as plt\n",
    "from matplotlib import cm\n",
    "from sklearn.cluster import KMeans\n",
    "from sklearn import preprocessing\n",
    "from sklearn.preprocessing import MinMaxScaler\n",
    "from s_dbw import S_Dbw\n",
    "import math"
   ]
  },
  {
   "cell_type": "code",
   "execution_count": 2,
   "id": "d1ccc6cf",
   "metadata": {},
   "outputs": [],
   "source": [
    "# resets index after selections have been made\n",
    "def resetindex(data):\n",
    "    data=data.reset_index()\n",
    "    data=data.drop('index', axis=1)\n",
    "    return data"
   ]
  },
  {
   "cell_type": "code",
   "execution_count": 3,
   "id": "672df194",
   "metadata": {},
   "outputs": [],
   "source": [
    "#reduces the data set to the first m iterations\n",
    "def firstiterations(m,data):\n",
    "    i=0\n",
    "    j=0\n",
    "    n=len(data.index)    \n",
    "    while i<n:\n",
    "        if  (data.iat[j,10]>m):\n",
    "            data=data.drop(i, axis=0)\n",
    "            i=i+1\n",
    "        else:\n",
    "            i=i+1\n",
    "            j=j+1\n",
    "    data=resetindex(data)\n",
    "    return data"
   ]
  },
  {
   "cell_type": "code",
   "execution_count": 4,
   "id": "e1883788",
   "metadata": {},
   "outputs": [],
   "source": [
    "# Generate a Series with a specific length, so that all residuals of one parameter combination are in one line\n",
    "def GenerateSeries(source, Length):\n",
    "    output=source.iloc[:,[4,5]]\n",
    "    output=output.drop_duplicates()\n",
    "    output=resetindex(output)\n",
    "    for j in range(1, Length+1):\n",
    "        output[f'ResidualNorm{j}']=0.0\n",
    "        for i in range(len(output.index)):\n",
    "            Abfrage=source.query( f\"`Droptol`=={output.iat[i,0]} and `Fillfactor`=={output.iat[i,1]} and Iterations=={j}\")\n",
    "            if len(Abfrage.index)==1:\n",
    "                output.iat[i,j+1]=Abfrage.iat[0,8]\n",
    "            elif len(Abfrage.index)>1:\n",
    "                raise Exception(\"Multiple instances with same Droptol, Fillfactor and Iteration within one Beta\")\n",
    "    return output"
   ]
  },
  {
   "cell_type": "code",
   "execution_count": 5,
   "id": "77e7f53d",
   "metadata": {},
   "outputs": [],
   "source": [
    "df=pd.read_csv('PCGDim16129.txt', sep='\\t')\n",
    "df=df.drop('Convergence Mode', axis=1)\n",
    "\n",
    "beta=1e6\n",
    "dfBeta=df.query(f\"Beta=={beta}\")\n",
    "dfBeta=resetindex(dfBeta)"
   ]
  },
  {
   "cell_type": "code",
   "execution_count": 6,
   "id": "06bcaa0c",
   "metadata": {},
   "outputs": [],
   "source": [
    "#test different combinations and compute S_Dbw score\n",
    "clustermax=12\n",
    "optimizationgrid=np.zeros(clustermax-2)\n",
    "SeriesLength=999\n",
    "series=GenerateSeries(dfBeta,SeriesLength)\n",
    "scaler = preprocessing.StandardScaler().fit(series.iloc[:,2:(2+SeriesLength)])\n",
    "scaled_clusterdata=scaler.transform(series.iloc[:,2:(2+SeriesLength)])\n",
    "for clustercount in range(2,clustermax):\n",
    "    kmeans=KMeans(n_clusters=clustercount)\n",
    "    y=kmeans.fit_predict(scaled_clusterdata)\n",
    "    UnsortedClusters=y\n",
    "    labels=kmeans.labels_\n",
    "    score = S_Dbw(scaled_clusterdata, labels, centers_id=None, method='Halkidi', alg_noise='bind', centr='mean', nearest_centr=True, metric='euclidean')\n",
    "    optimizationgrid[clustercount-2]=score"
   ]
  },
  {
   "cell_type": "code",
   "execution_count": 7,
   "id": "8894d3be",
   "metadata": {},
   "outputs": [],
   "source": [
    "       \n",
    "# take best option based on the score      \n",
    "minima=np.argwhere((optimizationgrid == np.min(optimizationgrid)))\n",
    "minima=minima[0]\n",
    "#clustercount=minima[0]+2\n",
    "clustercount=11\n",
    "series=GenerateSeries(dfBeta,SeriesLength)\n",
    "scaler = preprocessing.StandardScaler().fit(series.iloc[:,2:(2+SeriesLength)])\n",
    "scaled_clusterdata=scaler.transform(series.iloc[:,2:(2+SeriesLength)])\n",
    "kmeans=KMeans(n_clusters=clustercount)\n",
    "y=kmeans.fit_predict(scaled_clusterdata)\n",
    "UnsortedClusters=y\n",
    "labels=kmeans.labels_\n",
    "score = S_Dbw(scaled_clusterdata, labels, centers_id=None, method='Halkidi', alg_noise='bind', centr='mean', nearest_centr=True, metric='euclidean')\n",
    "\n",
    "\n",
    "#Sort clusters\n",
    "SortingValues=np.zeros(clustercount)\n",
    "SortData=pd.DataFrame(series[f'ResidualNorm{SeriesLength}'])\n",
    "SortData['UnsortedClusters']=y\n",
    "for i in range(0,clustercount):\n",
    "    ResOfCluster=SortData.query(f'UnsortedClusters=={i}')\n",
    "    sums=ResOfCluster[f\"ResidualNorm{SeriesLength}\"].sum()\n",
    "    if sums==0:\n",
    "        NonzerosInSeries=0\n",
    "        for j in range(0,len(ResOfCluster.index)):\n",
    "            ToBeCounted=series.loc[ResOfCluster.index[j],:]\n",
    "            NonzerosInSeries= NonzerosInSeries+np.count_nonzero(ToBeCounted, axis=0)\n",
    "        NonzerosInSeries=NonzerosInSeries/len(ResOfCluster.index)\n",
    "        SortingValues[i]=-1000+NonzerosInSeries\n",
    "    else:    \n",
    "        SortingValues[i]=sums/len(ResOfCluster.index)\n",
    "\n",
    "    \n",
    "    \n",
    "Sorting=np.argsort(np.argsort(SortingValues))\n",
    "Clusters=np.zeros(shape=len(UnsortedClusters))\n",
    "for i in range(0,len(Clusters)):\n",
    "    Clusters[i]=Sorting[UnsortedClusters[i]]\n",
    "Clusters=np.int_(Clusters)\n",
    "\n",
    "series['Cluster']=Clusters\n"
   ]
  },
  {
   "cell_type": "code",
   "execution_count": null,
   "id": "e60afc29",
   "metadata": {},
   "outputs": [],
   "source": []
  },
  {
   "cell_type": "code",
   "execution_count": 1,
   "id": "d49bc449",
   "metadata": {},
   "outputs": [
    {
     "ename": "NameError",
     "evalue": "name 'series' is not defined",
     "output_type": "error",
     "traceback": [
      "\u001b[0;31m---------------------------------------------------------------------------\u001b[0m",
      "\u001b[0;31mNameError\u001b[0m                                 Traceback (most recent call last)",
      "\u001b[0;32m/tmp/ipykernel_24167/506564307.py\u001b[0m in \u001b[0;36m<module>\u001b[0;34m\u001b[0m\n\u001b[1;32m      1\u001b[0m \u001b[0;31m#series['ILUTNonzeros']=''\u001b[0m\u001b[0;34m\u001b[0m\u001b[0;34m\u001b[0m\u001b[0;34m\u001b[0m\u001b[0m\n\u001b[0;32m----> 2\u001b[0;31m \u001b[0mseries\u001b[0m\u001b[0;34m[\u001b[0m\u001b[0;34m'TimeAtSeriesLengthIteration'\u001b[0m\u001b[0;34m]\u001b[0m\u001b[0;34m=\u001b[0m\u001b[0;34m''\u001b[0m\u001b[0;34m\u001b[0m\u001b[0;34m\u001b[0m\u001b[0m\n\u001b[0m\u001b[1;32m      3\u001b[0m \u001b[0mlengthBasis\u001b[0m\u001b[0;34m=\u001b[0m\u001b[0mlen\u001b[0m\u001b[0;34m(\u001b[0m\u001b[0mseries\u001b[0m\u001b[0;34m.\u001b[0m\u001b[0mindex\u001b[0m\u001b[0;34m)\u001b[0m\u001b[0;34m\u001b[0m\u001b[0;34m\u001b[0m\u001b[0m\n\u001b[1;32m      4\u001b[0m \u001b[0;32mfor\u001b[0m \u001b[0mi\u001b[0m \u001b[0;32min\u001b[0m \u001b[0mrange\u001b[0m\u001b[0;34m(\u001b[0m\u001b[0;36m0\u001b[0m\u001b[0;34m,\u001b[0m\u001b[0mlengthBasis\u001b[0m\u001b[0;34m)\u001b[0m\u001b[0;34m:\u001b[0m\u001b[0;34m\u001b[0m\u001b[0;34m\u001b[0m\u001b[0m\n\u001b[1;32m      5\u001b[0m     \u001b[0mseries\u001b[0m\u001b[0;34m.\u001b[0m\u001b[0miat\u001b[0m\u001b[0;34m[\u001b[0m\u001b[0mi\u001b[0m\u001b[0;34m,\u001b[0m\u001b[0;36m3\u001b[0m\u001b[0;34m+\u001b[0m\u001b[0mSeriesLength\u001b[0m\u001b[0;34m]\u001b[0m\u001b[0;34m=\u001b[0m\u001b[0;34m(\u001b[0m\u001b[0mdfBeta\u001b[0m\u001b[0;34m.\u001b[0m\u001b[0mquery\u001b[0m\u001b[0;34m(\u001b[0m\u001b[0;34mf\"Droptol=={series.iat[i,0]} and Fillfactor=={series.iat[i,1]}\"\u001b[0m\u001b[0;34m)\u001b[0m\u001b[0;34m)\u001b[0m\u001b[0;34m.\u001b[0m\u001b[0miat\u001b[0m\u001b[0;34m[\u001b[0m\u001b[0;36m0\u001b[0m\u001b[0;34m,\u001b[0m\u001b[0;36m0\u001b[0m\u001b[0;34m]\u001b[0m\u001b[0;34m\u001b[0m\u001b[0;34m\u001b[0m\u001b[0m\n",
      "\u001b[0;31mNameError\u001b[0m: name 'series' is not defined"
     ]
    }
   ],
   "source": [
    "#Generate final provenance data, includig Droptol, Fillfactor, ILUTNonzeros, Time, and Cluster\n",
    "series['ILUTNonzeros']=''\n",
    "series['TimeAtSeriesLengthIteration']=''\n",
    "lengthBasis=len(series.index)\n",
    "for i in range(0,lengthBasis):\n",
    "    series.iat[i,3+SeriesLength]=(dfBeta.query(f\"Droptol=={series.iat[i,0]} and Fillfactor=={series.iat[i,1]}\")).iat[0,0]\n",
    "    series.iat[i,4+SeriesLength]=((dfBeta.query(f\"Droptol=={series.iat[i,0]} and Fillfactor=={series.iat[i,1]} and Iterations<(1+{SeriesLength})\")).sort_values(by=['Iterations'],ascending=False)).iat[0,11] + ((dfBeta.query(f\"Droptol=={series.iat[i,0]} and Fillfactor=={series.iat[i,1]} and Iterations<(1+{SeriesLength})\")).sort_values(by=['Iterations'],ascending=False)).iat[0,12]\n",
    "    \n",
    "ProvenanceData=series[['Droptol','Fillfactor','ILUTNonzeros','TimeAtSeriesLengthIteration','Cluster']]\n",
    "ProvenanceData"
   ]
  },
  {
   "cell_type": "code",
   "execution_count": 3,
   "id": "6cb2c36a",
   "metadata": {},
   "outputs": [
    {
     "ename": "NameError",
     "evalue": "name 'ProvenanceData' is not defined",
     "output_type": "error",
     "traceback": [
      "\u001b[0;31m---------------------------------------------------------------------------\u001b[0m",
      "\u001b[0;31mNameError\u001b[0m                                 Traceback (most recent call last)",
      "\u001b[0;32m/tmp/ipykernel_24167/826532941.py\u001b[0m in \u001b[0;36m<module>\u001b[0;34m\u001b[0m\n\u001b[1;32m      1\u001b[0m \u001b[0mILUTNonzerosLimit\u001b[0m\u001b[0;34m=\u001b[0m\u001b[0;36m76000\u001b[0m\u001b[0;34m\u001b[0m\u001b[0;34m\u001b[0m\u001b[0m\n\u001b[0;32m----> 2\u001b[0;31m \u001b[0mProvenanceData\u001b[0m\u001b[0;34m\u001b[0m\u001b[0;34m\u001b[0m\u001b[0m\n\u001b[0m\u001b[1;32m      3\u001b[0m \u001b[0;32mwith\u001b[0m \u001b[0mpd\u001b[0m\u001b[0;34m.\u001b[0m\u001b[0moption_context\u001b[0m\u001b[0;34m(\u001b[0m\u001b[0;34m'display.max_rows'\u001b[0m\u001b[0;34m,\u001b[0m \u001b[0;32mNone\u001b[0m\u001b[0;34m,\u001b[0m \u001b[0;34m'display.max_columns'\u001b[0m\u001b[0;34m,\u001b[0m \u001b[0;32mNone\u001b[0m\u001b[0;34m)\u001b[0m\u001b[0;34m:\u001b[0m  \u001b[0;31m# more options can be specified also\u001b[0m\u001b[0;34m\u001b[0m\u001b[0;34m\u001b[0m\u001b[0m\n\u001b[1;32m      4\u001b[0m     \u001b[0mprint\u001b[0m\u001b[0;34m(\u001b[0m\u001b[0mresetindex\u001b[0m\u001b[0;34m(\u001b[0m\u001b[0;34m(\u001b[0m\u001b[0mProvenanceData\u001b[0m\u001b[0;34m.\u001b[0m\u001b[0mquery\u001b[0m\u001b[0;34m(\u001b[0m\u001b[0;34mf\"ILUTNonzeros<{ILUTNonzerosLimit}\"\u001b[0m\u001b[0;34m)\u001b[0m\u001b[0;34m)\u001b[0m\u001b[0;34m.\u001b[0m\u001b[0msort_values\u001b[0m\u001b[0;34m(\u001b[0m\u001b[0mby\u001b[0m\u001b[0;34m=\u001b[0m\u001b[0;34m[\u001b[0m\u001b[0;34m'Cluster'\u001b[0m\u001b[0;34m,\u001b[0m\u001b[0;34m'TimeAtSeriesLengthIteration'\u001b[0m\u001b[0;34m]\u001b[0m\u001b[0;34m)\u001b[0m\u001b[0;34m)\u001b[0m\u001b[0;34m)\u001b[0m\u001b[0;34m\u001b[0m\u001b[0;34m\u001b[0m\u001b[0m\n",
      "\u001b[0;31mNameError\u001b[0m: name 'ProvenanceData' is not defined"
     ]
    }
   ],
   "source": [
    "#Filter and sort provenance data according to constraints and optimization goals\n",
    "ILUTNonzerosLimit=76000\n",
    "ProvenanceData\n",
    "with pd.option_context('display.max_rows', None, 'display.max_columns', None):  # more options can be specified also\n",
    "    print(resetindex((ProvenanceData.query(f\"ILUTNonzeros<{ILUTNonzerosLimit}\")).sort_values(by=['Cluster','TimeAtSeriesLengthIteration'])))"
   ]
  },
  {
   "cell_type": "code",
   "execution_count": null,
   "id": "bac384d0",
   "metadata": {},
   "outputs": [],
   "source": []
  },
  {
   "cell_type": "code",
   "execution_count": null,
   "id": "339bebb4",
   "metadata": {},
   "outputs": [],
   "source": []
  },
  {
   "cell_type": "markdown",
   "id": "552c991a",
   "metadata": {},
   "source": [
    "<br>\n",
    "<br>\n",
    "<br>\n",
    "<strong> Visualizing parameter space"
   ]
  },
  {
   "cell_type": "code",
   "execution_count": 61,
   "id": "fc18314b",
   "metadata": {},
   "outputs": [],
   "source": [
    "list=['0','1','2','3','4','5','6','7','8','9','10','11','12','13','14','15','16']\n",
    "for cl in range(0,clustercount):\n",
    "    vars()[\"PredictionGroup\"+list[cl]]=series.query(f\"`Cluster`=={cl} and ILUTNonzeros<{ILUTNonzerosLimit}\")"
   ]
  },
  {
   "cell_type": "code",
   "execution_count": 62,
   "id": "5057542f",
   "metadata": {},
   "outputs": [
    {
     "data": {
      "image/png": "[encoded data removed]",
      "text/plain": [
       "<Figure size 432x288 with 1 Axes>"
      ]
     },
     "metadata": {
      "needs_background": "light"
     },
     "output_type": "display_data"
    }
   ],
   "source": [
    "ax = PredictionGroup0.plot(kind='scatter', x='Droptol', y='Fillfactor',color='#920000', label='Group 0');\n",
    "PredictionGroup1.plot(kind='scatter', x='Droptol', y='Fillfactor',marker= \"v\", color='#b6dbff', label='Group 1', ax=ax);\n",
    "if clustercount>2:\n",
    "    PredictionGroup2.plot(kind='scatter', x='Droptol', y='Fillfactor',marker= \"^\", color='#ffb6db', label='Group 2', ax=ax);\n",
    "    if clustercount>3:\n",
    "        PredictionGroup3.plot(kind='scatter', x='Droptol', y='Fillfactor',marker= \"d\",color='grey', label='Group 3', ax=ax);\n",
    "        if clustercount>4:\n",
    "            PredictionGroup4.plot(kind='scatter', x='Droptol', y='Fillfactor',marker= \"<\",color='#24ff24', label='Group 4', ax=ax);\n",
    "            if clustercount>5:\n",
    "                PredictionGroup5.plot(kind='scatter', x='Droptol', y='Fillfactor',marker= \">\",color='#490092', label='Group 5', ax=ax);\n",
    "                if clustercount>6:\n",
    "                    PredictionGroup6.plot(kind='scatter', x='Droptol', y='Fillfactor',marker= \"s\",color='#db6d00', label='Group 6', ax=ax);\n",
    "                    if clustercount>7:\n",
    "                        PredictionGroup7.plot(kind='scatter', x='Droptol', y='Fillfactor',marker= \"*\",color='#b66dff', label='Group 7', ax=ax);\n",
    "                        if clustercount>8:\n",
    "                            PredictionGroup8.plot(kind='scatter', x='Droptol', y='Fillfactor',marker= \"+\",color='#009292', label='Group 8', ax=ax);\n",
    "                            if clustercount>9:\n",
    "                                PredictionGroup9.plot(kind='scatter', x='Droptol', y='Fillfactor',marker= \"x\", color='#924900', label='Group 9', ax=ax);\n",
    "                                if clustercount>10:\n",
    "                                    PredictionGroup10.plot(kind='scatter', x='Droptol', y='Fillfactor',marker= \"X\",color='#006ddb', label='Group 10', ax=ax);\n",
    "                                    if clustercount>11:\n",
    "                                        PredictionGroup11.plot(kind='scatter', x='Droptol', y='Fillfactor',marker= \"D\",color='#004949', label='Group 11', ax=ax);\n",
    "ax.set_xscale('log')\n",
    "ax.legend(bbox_to_anchor=(1.0, 1.0))\n",
    "plt.title(f\"Beta=1e{int(math.log10(beta))}, full dataset, all iterations, ILUTNonzeros<{ILUTNonzerosLimit}\")\n",
    "plt.show()"
   ]
  },
  {
   "cell_type": "markdown",
   "id": "03574135",
   "metadata": {},
   "source": [
    "<br>\n",
    "<br>\n",
    "<br>\n",
    "<strong> Visualizing trajectories"
   ]
  },
  {
   "cell_type": "code",
   "execution_count": 63,
   "id": "8bbe906e",
   "metadata": {},
   "outputs": [
    {
     "name": "stdout",
     "output_type": "stream",
     "text": [
      "<class 'pandas.core.frame.DataFrame'>\n",
      "RangeIndex: 22966 entries, 0 to 22965\n",
      "Data columns (total 16 columns):\n",
      " #   Column               Non-Null Count  Dtype  \n",
      "---  ------               --------------  -----  \n",
      " 0   ILUTNonzeros         22966 non-null  int64  \n",
      " 1   Number of unknowns   22966 non-null  int64  \n",
      " 2   Alpha                22966 non-null  int64  \n",
      " 3   Beta                 22966 non-null  float64\n",
      " 4   Droptol              22966 non-null  float64\n",
      " 5   Fillfactor           22966 non-null  int64  \n",
      " 6   Tolerance            22966 non-null  float64\n",
      " 7   InitialResidualNorm  22966 non-null  float64\n",
      " 8   ResidualNorm         22966 non-null  float64\n",
      " 9   ResidualQuotient     22966 non-null  float64\n",
      " 10  Iterations           22966 non-null  int64  \n",
      " 11  SolutionTime         22966 non-null  float64\n",
      " 12  ILUAssemblyTime      22966 non-null  float64\n",
      " 13  AbsoluteError        22966 non-null  float64\n",
      " 14  RelativeError        22966 non-null  float64\n",
      " 15  Cluster              22966 non-null  int64  \n",
      "dtypes: float64(10), int64(6)\n",
      "memory usage: 2.8 MB\n"
     ]
    }
   ],
   "source": [
    "dfBeta.info()"
   ]
  },
  {
   "cell_type": "code",
   "execution_count": 64,
   "id": "df63c3eb",
   "metadata": {},
   "outputs": [],
   "source": [
    "dfBeta['Cluster']=0\n",
    "\n",
    "for i in range(len(dfBeta.index)):\n",
    "    dfBeta.iat[i,15]=(series.query(f\"`Droptol`=={dfBeta.iat[i,4]} and `Fillfactor`=={dfBeta.iat[i,5]}\")).iat[0,SeriesLength+2]\n",
    "    \n",
    "    \n",
    "list=['0','1','2','3','4','5','6','7','8','9','10','11','12','13','14','15','16']\n",
    "for cl in range(0,clustercount):\n",
    "    vars()[\"Group\"+list[cl]]=dfBeta.query(f\"`Cluster`=={cl} and ILUTNonzeros<{ILUTNonzerosLimit}\")\n",
    "    \n",
    "    "
   ]
  },
  {
   "cell_type": "code",
   "execution_count": 65,
   "id": "c41f5fb9",
   "metadata": {},
   "outputs": [
    {
     "data": {
      "image/png": "[encoded data removed]",
      "text/plain": [
       "<Figure size 432x288 with 1 Axes>"
      ]
     },
     "metadata": {
      "needs_background": "light"
     },
     "output_type": "display_data"
    }
   ],
   "source": [
    "ax = Group0.plot(kind='scatter', x='Iterations', y='ResidualNorm',color='#920000', label='Group 0');\n",
    "Group1.plot(kind='scatter', x='Iterations', y='ResidualNorm',marker= \"v\",color='#b6dbff', label='Group 1',ax=ax);\n",
    "if clustercount>2:\n",
    "    Group2.plot(kind='scatter', x='Iterations', y='ResidualNorm',marker= \"^\",color='#ffb6db', label='Group 2',ax=ax);\n",
    "    if clustercount>3:\n",
    "        Group3.plot(kind='scatter', x='Iterations', y='ResidualNorm',marker= \"d\",color='grey', label='Group 3',ax=ax);\n",
    "        if clustercount>4:\n",
    "            Group4.plot(kind='scatter', x='Iterations', y='ResidualNorm',marker= \"<\",color='#24ff24', label='Group 4',ax=ax);\n",
    "            if clustercount>5:\n",
    "                Group5.plot(kind='scatter', x='Iterations', y='ResidualNorm',marker= \">\",color='#490092', label='Group 5', ax=ax);\n",
    "                if clustercount>6:\n",
    "                    Group6.plot(kind='scatter', x='Iterations', y='ResidualNorm',marker= \"s\",color='#db6d00', label='Group 6', ax=ax);\n",
    "                    if clustercount>7:\n",
    "                        Group7.plot(kind='scatter', x='Iterations', y='ResidualNorm',marker= \"*\",color='#b66dff', label='Group 7', ax=ax);\n",
    "                        if clustercount>8:\n",
    "                            Group8.plot(kind='scatter', x='Iterations', y='ResidualNorm',marker= \"+\",color='#009292', label='Group 8', ax=ax);\n",
    "                            if clustercount>9:\n",
    "                                Group9.plot(kind='scatter', x='Iterations', y='ResidualNorm',marker= \"x\",color='#924900', label='Group 9', ax=ax);\n",
    "                                if clustercount>10:\n",
    "                                    Group10.plot(kind='scatter', x='Iterations', y='ResidualNorm',marker= \"X\",color='#006ddb', label='Group 10', ax=ax);\n",
    "                                    if clustercount>11:\n",
    "                                        Group11.plot(kind='scatter', x='Iterations', y='ResidualNorm',marker= \"D\",color='#004949', label='Group 11', ax=ax);\n",
    "                                                                                \n",
    "ax.set_yscale('log')\n",
    "ax.set_xlim(0,200)\n",
    "plt.legend(loc='lower right')\n",
    "plt.title(f\"Beta=1e{int(math.log10(beta))}, full dataset, all iterations, ILUTNonzeros<{ILUTNonzerosLimit}\")\n",
    "plt.show() "
   ]
  },
  {
   "cell_type": "code",
   "execution_count": null,
   "id": "81353ba2",
   "metadata": {},
   "outputs": [],
   "source": []
  },
  {
   "cell_type": "code",
   "execution_count": null,
   "id": "46e5c955",
   "metadata": {},
   "outputs": [],
   "source": []
  },
  {
   "cell_type": "code",
   "execution_count": null,
   "id": "1c088243",
   "metadata": {},
   "outputs": [],
   "source": []
  },
  {
   "cell_type": "code",
   "execution_count": null,
   "id": "3b35ec22",
   "metadata": {},
   "outputs": [],
   "source": []
  },
  {
   "cell_type": "code",
   "execution_count": null,
   "id": "5704953a",
   "metadata": {},
   "outputs": [],
   "source": []
  }
 ],
 "metadata": {
  "kernelspec": {
   "display_name": "Python 3 (ipykernel)",
   "language": "python",
   "name": "python3"
  },
  "language_info": {
   "codemirror_mode": {
    "name": "ipython",
    "version": 3
   },
   "file_extension": ".py",
   "mimetype": "text/x-python",
   "name": "python",
   "nbconvert_exporter": "python",
   "pygments_lexer": "ipython3",
   "version": "3.7.3"
  }
 },
 "nbformat": 4,
 "nbformat_minor": 5
}
