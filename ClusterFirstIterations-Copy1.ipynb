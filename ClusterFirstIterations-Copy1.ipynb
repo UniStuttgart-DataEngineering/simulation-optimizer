{
 "cells": [
  {
   "cell_type": "code",
   "execution_count": 1,
   "id": "1e48fd59",
   "metadata": {},
   "outputs": [],
   "source": [
    "import pandas as pd\n",
    "import numpy as np\n",
    "import matplotlib.pyplot as plt\n",
    "from matplotlib import cm\n",
    "from sklearn.cluster import KMeans\n",
    "from sklearn import preprocessing\n",
    "from sklearn.preprocessing import MinMaxScaler\n",
    "from s_dbw import S_Dbw\n",
    "import math"
   ]
  },
  {
   "cell_type": "code",
   "execution_count": 2,
   "id": "e6290e11",
   "metadata": {},
   "outputs": [],
   "source": [
    "# resets index after selections have been made\n",
    "def resetindex(data):\n",
    "    data=data.reset_index()\n",
    "    data=data.drop('index', axis=1)\n",
    "    return data"
   ]
  },
  {
   "cell_type": "code",
   "execution_count": 3,
   "id": "b46d6a3a",
   "metadata": {},
   "outputs": [],
   "source": [
    "#reduces the data set to the first m iterations\n",
    "def firstiterations(m,data):\n",
    "    i=0\n",
    "    j=0\n",
    "    n=len(data.index)    \n",
    "    while i<n:\n",
    "        if  (data.iat[j,10]>m):\n",
    "            data=data.drop(i, axis=0)\n",
    "            i=i+1\n",
    "        else:\n",
    "            i=i+1\n",
    "            j=j+1\n",
    "    data=resetindex(data)\n",
    "    return data"
   ]
  },
  {
   "cell_type": "code",
   "execution_count": 4,
   "id": "9cea24ef",
   "metadata": {},
   "outputs": [],
   "source": [
    "# Generate a Series with a specific length, so that all residuals of one parameter combination are in one line\n",
    "def GenerateSeries(source, Length):\n",
    "    output=source.iloc[:,[4,5]]\n",
    "    output=output.drop_duplicates()\n",
    "    output=resetindex(output)\n",
    "    for j in range(1, Length+1):\n",
    "        output[f'ResidualNorm{j}']=0.0\n",
    "        for i in range(len(output.index)):\n",
    "            Abfrage=source.query( f\"`Droptol`=={output.iat[i,0]} and `Fillfactor`=={output.iat[i,1]} and Iterations=={j}\")\n",
    "            if len(Abfrage.index)==1:\n",
    "                output.iat[i,j+1]=Abfrage.iat[0,8]\n",
    "            elif len(Abfrage.index)>1:\n",
    "                raise Exception(\"Multiple instances with same Droptol, Fillfactor and Iteration within one Beta\")\n",
    "    return output"
   ]
  },
  {
   "cell_type": "code",
   "execution_count": 5,
   "id": "80c358e0",
   "metadata": {},
   "outputs": [],
   "source": [
    "df=pd.read_csv('PCGDim16129.txt', sep='\\t')\n",
    "df=df.drop('Convergence Mode', axis=1)\n",
    "\n",
    "beta=1e2\n",
    "dfBeta=df.query(f\"Beta=={beta}\")\n",
    "dfBeta=resetindex(dfBeta)"
   ]
  },
  {
   "cell_type": "code",
   "execution_count": 6,
   "id": "e2dc6be0",
   "metadata": {},
   "outputs": [],
   "source": [
    "#test different combinations and compute S_Dbw score\n",
    "clustermax=12\n",
    "optimizationgrid=np.zeros([7,clustermax-2])\n",
    "for SeriesLength in range(3,10):\n",
    "    for clustercount in range(2,clustermax):\n",
    "        series=GenerateSeries(dfBeta,SeriesLength)\n",
    "        scaler = preprocessing.StandardScaler().fit(series.iloc[:,2:(2+SeriesLength)])\n",
    "        scaled_clusterdata=scaler.transform(series.iloc[:,2:(2+SeriesLength)])\n",
    "        kmeans=KMeans(n_clusters=clustercount)\n",
    "        y=kmeans.fit_predict(scaled_clusterdata)\n",
    "        UnsortedClusters=y\n",
    "        labels=kmeans.labels_\n",
    "        score = S_Dbw(scaled_clusterdata, labels, centers_id=None, method='Halkidi', alg_noise='bind', centr='mean', nearest_centr=True, metric='euclidean')\n",
    "        optimizationgrid[SeriesLength-3,clustercount-2]=score\n",
    "        \n",
    "# take best option based on the score      \n",
    "minima=np.argwhere((optimizationgrid == np.min(optimizationgrid)))\n",
    "minima=minima[0]\n",
    "SeriesLength=minima[0]+3\n",
    "clustercount=minima[1]+2\n",
    "series=GenerateSeries(dfBeta,SeriesLength)\n",
    "scaler = preprocessing.StandardScaler().fit(series.iloc[:,2:(2+SeriesLength)])\n",
    "scaled_clusterdata=scaler.transform(series.iloc[:,2:(2+SeriesLength)])\n",
    "kmeans=KMeans(n_clusters=clustercount)\n",
    "y=kmeans.fit_predict(scaled_clusterdata)\n",
    "UnsortedClusters=y\n",
    "labels=kmeans.labels_\n",
    "score = S_Dbw(scaled_clusterdata, labels, centers_id=None, method='Halkidi', alg_noise='bind', centr='mean', nearest_centr=True, metric='euclidean')\n",
    "\n",
    "\n",
    "#Take best combination and sort clusters\n",
    "SortingValues=np.zeros(clustercount)\n",
    "SortData=pd.DataFrame(series[f'ResidualNorm{SeriesLength}'])\n",
    "SortData['UnsortedClusters']=y\n",
    "for i in range(0,clustercount):\n",
    "    ResOfCluster=SortData.query(f'UnsortedClusters=={i}')\n",
    "    sums=ResOfCluster[f\"ResidualNorm{SeriesLength}\"].sum()\n",
    "    SortingValues[i]=sums/len(ResOfCluster.index)\n",
    "    \n",
    "Sorting=np.argsort(np.argsort(SortingValues))\n",
    "Clusters=np.zeros(shape=len(UnsortedClusters))\n",
    "for i in range(0,len(Clusters)):\n",
    "    Clusters[i]=Sorting[UnsortedClusters[i]]\n",
    "Clusters=np.int_(Clusters)\n",
    "\n",
    "series['Cluster']=Clusters\n"
   ]
  },
  {
   "cell_type": "code",
   "execution_count": 7,
   "id": "6a6674b8",
   "metadata": {},
   "outputs": [
    {
     "data": {
      "text/plain": [
       "3"
      ]
     },
     "execution_count": 7,
     "metadata": {},
     "output_type": "execute_result"
    }
   ],
   "source": [
    "SeriesLength"
   ]
  },
  {
   "cell_type": "code",
   "execution_count": 8,
   "id": "4e3bbca2",
   "metadata": {},
   "outputs": [
    {
     "data": {
      "text/plain": [
       "11"
      ]
     },
     "execution_count": 8,
     "metadata": {},
     "output_type": "execute_result"
    }
   ],
   "source": [
    "clustercount"
   ]
  },
  {
   "cell_type": "markdown",
   "id": "f1174ec6",
   "metadata": {},
   "source": [
    "<br>\n",
    "<br>\n",
    "<br>\n",
    "<strong> Visualizing parameter space"
   ]
  },
  {
   "cell_type": "code",
   "execution_count": 9,
   "id": "a8624856",
   "metadata": {},
   "outputs": [],
   "source": [
    "list=['0','1','2','3','4','5','6','7','8','9','10','11','12','13']\n",
    "for cl in range(0,clustercount):\n",
    "    vars()[\"PredictionGroup\"+list[cl]]=series.query(f\"`Cluster`=={cl}\")"
   ]
  },
  {
   "cell_type": "code",
   "execution_count": 10,
   "id": "5f56cacb",
   "metadata": {},
   "outputs": [
    {
     "data": {
      "image/png": "[encoded data removed]",
      "text/plain": [
       "<Figure size 432x288 with 1 Axes>"
      ]
     },
     "metadata": {
      "needs_background": "light"
     },
     "output_type": "display_data"
    }
   ],
   "source": [
    "ax = PredictionGroup0.plot(kind='scatter', x='Droptol', y='Fillfactor',color='blue', label='Group 0');\n",
    "PredictionGroup1.plot(kind='scatter', x='Droptol', y='Fillfactor',color='red', label='Group 1', ax=ax);\n",
    "if clustercount>2:\n",
    "    PredictionGroup2.plot(kind='scatter', x='Droptol', y='Fillfactor',color='green', label='Group 2', ax=ax);\n",
    "    if clustercount>3:\n",
    "        PredictionGroup3.plot(kind='scatter', x='Droptol', y='Fillfactor',color='orange', label='Group 3', ax=ax);\n",
    "        if clustercount>4:\n",
    "            PredictionGroup4.plot(kind='scatter', x='Droptol', y='Fillfactor',color='cyan', label='Group 4', ax=ax);\n",
    "            if clustercount>5:\n",
    "                PredictionGroup5.plot(kind='scatter', x='Droptol', y='Fillfactor',color='gray', label='Group 5', ax=ax);\n",
    "                if clustercount>6:\n",
    "                    PredictionGroup6.plot(kind='scatter', x='Droptol', y='Fillfactor',color='brown', label='Group 6', ax=ax);\n",
    "                    if clustercount>7:\n",
    "                        PredictionGroup7.plot(kind='scatter', x='Droptol', y='Fillfactor',color='magenta', label='Group 7', ax=ax);\n",
    "                        if clustercount>8:\n",
    "                            PredictionGroup8.plot(kind='scatter', x='Droptol', y='Fillfactor',color='olive', label='Group 8', ax=ax);\n",
    "                            if clustercount>9:\n",
    "                                PredictionGroup9.plot(kind='scatter', x='Droptol', y='Fillfactor',color='black', label='Group 9', ax=ax);\n",
    "                                if clustercount>10:\n",
    "                                    PredictionGroup10.plot(kind='scatter', x='Droptol', y='Fillfactor',color='darkorchid', label='Group 10', ax=ax);\n",
    "                                    if clustercount>11:\n",
    "                                        PredictionGroup11.plot(kind='scatter', x='Droptol', y='Fillfactor',color='mistyrose', label='Group 11', ax=ax);\n",
    "\n",
    "ax.set_xscale('log')\n",
    "ax.legend(bbox_to_anchor=(1.0, 1.0))\n",
    "plt.title(f\"Beta=1e{int(math.log10(beta))}, all datapoints, first iterations\")\n",
    "plt.show()"
   ]
  },
  {
   "cell_type": "markdown",
   "id": "4fa346ab",
   "metadata": {},
   "source": [
    "<br>\n",
    "<br>\n",
    "<br>\n",
    "<strong> Visualizing trajectories"
   ]
  },
  {
   "cell_type": "code",
   "execution_count": 11,
   "id": "ac088fb7",
   "metadata": {},
   "outputs": [],
   "source": [
    "dfBeta['Cluster']=0\n",
    "\n",
    "for i in range(len(dfBeta.index)):\n",
    "    dfBeta.iat[i,15]=(series.query(f\"`Droptol`=={dfBeta.iat[i,4]} and `Fillfactor`=={dfBeta.iat[i,5]}\")).iat[0,SeriesLength+2]\n",
    "    \n",
    "    \n",
    "list=['0','1','2','3','4','5','6','7','8','9','10','11','12','13']\n",
    "for cl in range(0,clustercount):\n",
    "    vars()[\"Group\"+list[cl]]=dfBeta.query(f\"`Cluster`=={cl}\")\n"
   ]
  },
  {
   "cell_type": "code",
   "execution_count": 12,
   "id": "942c362d",
   "metadata": {},
   "outputs": [
    {
     "data": {
      "image/png": "[encoded data removed]",
      "text/plain": [
       "<Figure size 432x288 with 1 Axes>"
      ]
     },
     "metadata": {
      "needs_background": "light"
     },
     "output_type": "display_data"
    }
   ],
   "source": [
    "ax = Group0.plot(kind='scatter', x='Iterations', y='ResidualNorm',color='blue', label='Group 0',s=0.5);\n",
    "Group1.plot(kind='scatter', x='Iterations', y='ResidualNorm',color='red', label='Group 1',ax=ax,s=0.5);\n",
    "if clustercount>2:\n",
    "    Group2.plot(kind='scatter', x='Iterations', y='ResidualNorm',color='green', label='Group 2',ax=ax,s=0.5);\n",
    "    if clustercount>3:\n",
    "        Group3.plot(kind='scatter', x='Iterations', y='ResidualNorm',color='orange', label='Group 3',ax=ax,s=0.5);\n",
    "        if clustercount>4:\n",
    "            Group4.plot(kind='scatter', x='Iterations', y='ResidualNorm',color='cyan', label='Group 4',ax=ax,s=0.5);\n",
    "            if clustercount>5:\n",
    "                Group5.plot(kind='scatter', x='Iterations', y='ResidualNorm',color='gray', label='Group 5', ax=ax,s=0.5);\n",
    "                if clustercount>6:\n",
    "                    Group6.plot(kind='scatter', x='Iterations', y='ResidualNorm',color='brown', label='Group 6', ax=ax,s=0.5);\n",
    "                    if clustercount>7:\n",
    "                        Group7.plot(kind='scatter', x='Iterations', y='ResidualNorm',color='magenta', label='Group 7', ax=ax,s=0.5);\n",
    "                        if clustercount>8:\n",
    "                            Group8.plot(kind='scatter', x='Iterations', y='ResidualNorm',color='olive', label='Group 8', ax=ax,s=0.5);\n",
    "                            if clustercount>9:\n",
    "                                Group9.plot(kind='scatter', x='Iterations', y='ResidualNorm',color='black', label='Group 9', ax=ax,s=0.5);\n",
    "                                if clustercount>10:\n",
    "                                    Group10.plot(kind='scatter', x='Iterations', y='ResidualNorm',color='darkorchid', label='Group 10', ax=ax,s=0.5);\n",
    "                                    if clustercount>11:\n",
    "                                        Group11.plot(kind='scatter', x='Iterations', y='ResidualNorm',color='mistyrose', label='Group 11', ax=ax,s=0.5);\n",
    "                                \n",
    "                                \n",
    "ax.set_yscale('log')\n",
    "ax.set_xlim(0,200)\n",
    "plt.title(f\"Beta=1e{int(math.log10(beta))}, all datapoints, first iterations\")\n",
    "plt.legend(loc='lower right')\n",
    "plt.show() "
   ]
  },
  {
   "cell_type": "code",
   "execution_count": null,
   "id": "6d604353",
   "metadata": {},
   "outputs": [],
   "source": []
  },
  {
   "cell_type": "code",
   "execution_count": null,
   "id": "57c0335d",
   "metadata": {},
   "outputs": [],
   "source": []
  },
  {
   "cell_type": "code",
   "execution_count": null,
   "id": "a2c77029",
   "metadata": {},
   "outputs": [],
   "source": []
  },
  {
   "cell_type": "code",
   "execution_count": null,
   "id": "9eb96577",
   "metadata": {},
   "outputs": [],
   "source": []
  }
 ],
 "metadata": {
  "kernelspec": {
   "display_name": "Python 3 (ipykernel)",
   "language": "python",
   "name": "python3"
  },
  "language_info": {
   "codemirror_mode": {
    "name": "ipython",
    "version": 3
   },
   "file_extension": ".py",
   "mimetype": "text/x-python",
   "name": "python",
   "nbconvert_exporter": "python",
   "pygments_lexer": "ipython3",
   "version": "3.7.3"
  }
 },
 "nbformat": 4,
 "nbformat_minor": 5
}
